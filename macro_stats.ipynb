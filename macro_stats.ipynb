{
 "cells": [
  {
   "cell_type": "code",
   "execution_count": 1,
   "metadata": {},
   "outputs": [
    {
     "data": {
      "text/plain": [
       "polars.config.Config"
      ]
     },
     "execution_count": 1,
     "metadata": {},
     "output_type": "execute_result"
    }
   ],
   "source": [
    "import polars as pl\n",
    "import os\n",
    "\n",
    "pl.Config.set_fmt_str_lengths(200)"
   ]
  },
  {
   "cell_type": "code",
   "execution_count": 3,
   "metadata": {},
   "outputs": [],
   "source": [
    "# load data in data/univ3 folder\n",
    "data = pl.read_parquet('data/univ3/*.parquet')"
   ]
  },
  {
   "cell_type": "code",
   "execution_count": 7,
   "metadata": {},
   "outputs": [
    {
     "data": {
      "text/plain": [
       "12624485"
      ]
     },
     "execution_count": 7,
     "metadata": {},
     "output_type": "execute_result"
    }
   ],
   "source": [
    "# count number of blockchain values\n",
    "data['blockNumber'].n_unique()"
   ]
  },
  {
   "cell_type": "code",
   "execution_count": null,
   "metadata": {},
   "outputs": [],
   "source": [
    "# filter for buggy transaction USD values\n",
    "data = data.filter(pl.col('amountInUSD') < 150000000)"
   ]
  },
  {
   "cell_type": "code",
   "execution_count": 6,
   "metadata": {},
   "outputs": [
    {
     "data": {
      "text/plain": [
       "9228.19331073761"
      ]
     },
     "execution_count": 6,
     "metadata": {},
     "output_type": "execute_result"
    }
   ],
   "source": [
    "data.estimated_size('mb') # amount of memory the file takes up"
   ]
  },
  {
   "cell_type": "code",
   "execution_count": 10,
   "metadata": {},
   "outputs": [
    {
     "data": {
      "text/html": [
       "<div><style>\n",
       ".dataframe > thead > tr > th,\n",
       ".dataframe > tbody > tr > td {\n",
       "  text-align: right;\n",
       "}\n",
       "</style>\n",
       "<small>shape: (4, 2)</small><table border=\"1\" class=\"dataframe\"><thead><tr><th>blockchain</th><th>count</th></tr><tr><td>str</td><td>u32</td></tr></thead><tbody><tr><td>&quot;optimism&quot;</td><td>5773664</td></tr><tr><td>&quot;ethereum&quot;</td><td>4816330</td></tr><tr><td>&quot;polygon&quot;</td><td>6032242</td></tr><tr><td>&quot;arbitrum&quot;</td><td>11521040</td></tr></tbody></table></div>"
      ],
      "text/plain": [
       "shape: (4, 2)\n",
       "┌────────────┬──────────┐\n",
       "│ blockchain ┆ count    │\n",
       "│ ---        ┆ ---      │\n",
       "│ str        ┆ u32      │\n",
       "╞════════════╪══════════╡\n",
       "│ optimism   ┆ 5773664  │\n",
       "│ ethereum   ┆ 4816330  │\n",
       "│ polygon    ┆ 6032242  │\n",
       "│ arbitrum   ┆ 11521040 │\n",
       "└────────────┴──────────┘"
      ]
     },
     "execution_count": 10,
     "metadata": {},
     "output_type": "execute_result"
    }
   ],
   "source": [
    "# number of swaps across blockchains\n",
    "blockchain_count = data.groupby('blockchain').count()"
   ]
  },
  {
   "cell_type": "code",
   "execution_count": null,
   "metadata": {},
   "outputs": [],
   "source": [
    "# sum OHM volume in USD grouped by dex\n",
    "mev_swap_vol_usd = data.groupby('dex').agg(pl.col('amountInUSD').sum())\n",
    "\n",
    "# merge ohm_count and mev_swap_vol_usd\n",
    "mev_swap_agg = mev_swap_count.join(mev_swap_vol_usd, on='dex')\n",
    "\n",
    "# select labeled columns and rename\n",
    "mev_swap_agg = mev_swap_agg.select(\n",
    "    pl.col('dex').alias('dex'),\n",
    "    pl.col('count').alias('count_labeled'),\n",
    "    pl.col('amountInUSD').alias('sum_amountInUSD_labeled')\n",
    ")"
   ]
  },
  {
   "cell_type": "code",
   "execution_count": null,
   "metadata": {},
   "outputs": [],
   "source": []
  },
  {
   "attachments": {},
   "cell_type": "markdown",
   "metadata": {},
   "source": [
    "### Token Filtering"
   ]
  },
  {
   "cell_type": "code",
   "execution_count": null,
   "metadata": {},
   "outputs": [],
   "source": [
    "def filter_tokens(token_symbol: str, dex_df: pl.DataFrame) -> pl.DataFrame:\n",
    "    \"\"\"\n",
    "    Filter dex swaps for specific token swaps\n",
    "    \"\"\"\n",
    "    # filter dex_df tokenIn_symbol for token_symbol\n",
    "    tokenIn_df = dex_df.filter(pl.col('tokenIn_symbol') == token_symbol)\n",
    "\n",
    "    # filter dex_df tokenOut_symbol for token_symbol\n",
    "    tokenOut_df = dex_df.filter(pl.col('tokenOut_symbol') == token_symbol)\n",
    "\n",
    "    # concat tokenIn_df and tokenOut_df\n",
    "    filter_df = pl.concat([tokenIn_df, tokenOut_df])\n",
    "\n",
    "    return filter_df"
   ]
  }
 ],
 "metadata": {
  "kernelspec": {
   "display_name": ".venv",
   "language": "python",
   "name": "python3"
  },
  "language_info": {
   "codemirror_mode": {
    "name": "ipython",
    "version": 3
   },
   "file_extension": ".py",
   "mimetype": "text/x-python",
   "name": "python",
   "nbconvert_exporter": "python",
   "pygments_lexer": "ipython3",
   "version": "3.10.6"
  },
  "orig_nbformat": 4
 },
 "nbformat": 4,
 "nbformat_minor": 2
}
