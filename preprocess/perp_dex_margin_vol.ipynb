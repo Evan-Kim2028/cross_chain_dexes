{
 "cells": [
  {
   "cell_type": "code",
   "execution_count": 1,
   "metadata": {},
   "outputs": [
    {
     "data": {
      "text/plain": [
       "polars.config.Config"
      ]
     },
     "execution_count": 1,
     "metadata": {},
     "output_type": "execute_result"
    }
   ],
   "source": [
    "import polars as pl\n",
    "import os\n",
    "\n",
    "pl.Config.set_fmt_str_lengths(200)\n",
    "pl.Config.set_fmt_float(\"full\")"
   ]
  },
  {
   "cell_type": "code",
   "execution_count": 2,
   "metadata": {},
   "outputs": [],
   "source": [
    "# import file paths\n",
    "gmx_file = '../data/dune_perp_margin/gmx.csv'\n",
    "gns_file = '../data/dune_perp_margin/gns.csv'\n",
    "kwenta_file = '../data/dune_perp_margin/kwenta.csv'\n",
    "level_file = '../data/dune_perp_margin/level.csv'\n",
    "mux_file = '../data/dune_perp_margin/mux.csv'\n",
    "perp_file = '../data/dune_perp_margin/perp.csv'\n",
    "vertex_file = '../data/dune_perp_margin/vertex.csv'"
   ]
  },
  {
   "cell_type": "code",
   "execution_count": 3,
   "metadata": {},
   "outputs": [],
   "source": [
    "# load files into dataframes\n",
    "gmx = pl.read_csv(gmx_file)\n",
    "gns = pl.read_csv(gns_file)\n",
    "kwenta = pl.read_csv(kwenta_file)\n",
    "level = pl.read_csv(level_file)\n",
    "mux = pl.read_csv(mux_file)\n",
    "perp = pl.read_csv(perp_file)\n",
    "vertex = pl.read_csv(vertex_file)"
   ]
  },
  {
   "cell_type": "code",
   "execution_count": 4,
   "metadata": {},
   "outputs": [],
   "source": [
    "# extract date from time str\n",
    "gmx = gmx.with_columns(pl.col(\"time_day\").str.split(\"T\").apply(lambda s: s[0]).str.to_date(format='%Y-%m-%d'))\n",
    "\n",
    "kwenta = kwenta.with_columns(pl.col(\"time\").str.split(' ').apply(lambda s: s[0]).str.to_date(format='%Y-%m-%d'))\n",
    "\n",
    "level = level.with_columns(pl.col(\"time\").str.split(' ').apply(lambda s: s[0]).str.to_date(format='%Y-%m-%d'))\n",
    "\n",
    "mux = mux.with_columns(pl.col(\"time\").str.split(' ').apply(lambda s: s[0]).str.to_date(format='%Y-%m-%d'))\n",
    "\n",
    "perp = perp.with_columns(pl.col(\"time\").str.split(' ').apply(lambda s: s[0]).str.to_date(format='%Y-%m-%d'))"
   ]
  },
  {
   "cell_type": "code",
   "execution_count": 5,
   "metadata": {},
   "outputs": [],
   "source": [
    "# split gns pair_name token (e.g. \"BTC/USD\" to BTC) and extract date from time str\n",
    "gns = gns.with_columns(\n",
    "    pl.col(\"pair_name\").str.split(\"/\").apply(lambda s: s[0]).alias(\"token\"),\n",
    "    pl.col(\"time\").str.split(' ').apply(lambda s: s[0]).str.to_date(format='%Y-%m-%d')\n",
    ")"
   ]
  },
  {
   "cell_type": "code",
   "execution_count": 6,
   "metadata": {},
   "outputs": [],
   "source": [
    "# filter vertex for type \"perp\"\n",
    "vertex = vertex.filter(vertex['type'] == 'Perp')\n",
    "\n",
    "# split vertex market pair into a token (e.g. \"BTC-PERP\" to \"BTC\"). Extract date from time str\n",
    "vertex = vertex.with_columns(\n",
    "    pl.col(\"market\").str.split(\"-\").apply(lambda s: s[0]).alias(\"token\"),\n",
    "    pl.col(\"date\").str.split(' ').apply(lambda s: s[0]).str.to_date(format='%Y-%m-%d')\n",
    ")"
   ]
  },
  {
   "cell_type": "code",
   "execution_count": 7,
   "metadata": {},
   "outputs": [],
   "source": [
    "# rename columns\n",
    "gmx = gmx.select([\n",
    "    pl.col('time_day').alias('timestamp'),\n",
    "    pl.col('token').alias('token'),\n",
    "    pl.col('volume').alias('volume')\n",
    "])\n",
    "\n",
    "gns = gns.select([\n",
    "    pl.col('time').alias('timestamp'),\n",
    "    pl.col('token').alias('token'),\n",
    "    pl.col('total_volume').alias('volume')\n",
    "])\n",
    "\n",
    "kwenta = kwenta.select([\n",
    "    pl.col('time').alias('timestamp'),\n",
    "    pl.col('token').alias('token'),\n",
    "    pl.col('total_volume').alias('volume')\n",
    "])\n",
    "\n",
    "level = level.select([\n",
    "    pl.col('time').alias('timestamp'),\n",
    "    pl.col('symbol').alias('token'),\n",
    "    pl.col('volume').alias('volume')\n",
    "])\n",
    "\n",
    "mux = mux.select([\n",
    "    pl.col('time').alias('timestamp'),\n",
    "    pl.col('token_name').alias('token'),\n",
    "    pl.col('total_volume').alias('volume')\n",
    "])\n",
    "\n",
    "perp = perp.select([\n",
    "    pl.col('time').alias('timestamp'),\n",
    "    pl.col('token').alias('token'),\n",
    "    pl.col('total_volume').alias('volume')\n",
    "])\n",
    "\n",
    "vertex = vertex.select([\n",
    "    pl.col('date').alias('timestamp'),\n",
    "    pl.col('token').alias('token'),\n",
    "    pl.col('daily_vol_by_markets').alias('volume')\n",
    "])\n"
   ]
  },
  {
   "cell_type": "code",
   "execution_count": 8,
   "metadata": {},
   "outputs": [],
   "source": [
    "def add_name_cols(df: pl.DataFrame, protocol: str) -> pl.DataFrame:\n",
    "    \"\"\"Add protocol name column to dataframe\"\"\"\n",
    "    # add protocol name column called \"prtoocol\"\n",
    "    return df.with_columns(pl.lit(protocol).alias('protocol'))"
   ]
  },
  {
   "cell_type": "code",
   "execution_count": 14,
   "metadata": {},
   "outputs": [],
   "source": [
    "def weekly_vol(df: pl.DataFrame) -> pl.DataFrame:\n",
    "    '''\n",
    "    Returns weekly volume for each blockchain in USD\n",
    "    '''\n",
    "    df = df.sort(\"timestamp\", descending=False).groupby_dynamic(\"timestamp\",every='1w').agg(pl.col('volume').sum()).select(\n",
    "        pl.col(\"timestamp\").dt.truncate(\"1w\"),\n",
    "        pl.col(\"volume\").alias(\"weekly_vol\"),\n",
    "        )\n",
    "    return df"
   ]
  },
  {
   "cell_type": "code",
   "execution_count": 15,
   "metadata": {},
   "outputs": [],
   "source": [
    "gmx_weekly = weekly_vol(gmx)\n",
    "gns_weekly = weekly_vol(gns)\n",
    "kwenta_weekly = weekly_vol(kwenta)\n",
    "level_weekly = weekly_vol(level)\n",
    "mux_weekly = weekly_vol(mux)\n",
    "perp_weekly = weekly_vol(perp)\n",
    "vertex_weekly = weekly_vol(vertex)"
   ]
  },
  {
   "cell_type": "code",
   "execution_count": 16,
   "metadata": {},
   "outputs": [],
   "source": [
    "gmx_weekly = add_name_cols(gmx_weekly, 'GMX')\n",
    "gns_weekly = add_name_cols(gns_weekly, 'GNS')\n",
    "kwenta_weekly = add_name_cols(kwenta_weekly, 'KWENTA')\n",
    "level_weekly = add_name_cols(level_weekly, 'LEVEL')\n",
    "mux_weekly = add_name_cols(mux_weekly, 'MUX')\n",
    "perp_weekly = add_name_cols(perp_weekly, 'PERP')\n",
    "vertex_weekly = add_name_cols(vertex_weekly, 'VERTEX')"
   ]
  },
  {
   "cell_type": "code",
   "execution_count": 19,
   "metadata": {},
   "outputs": [],
   "source": [
    "# concat weekly data\n",
    "weekly_perp_vol = pl.concat([\n",
    "    gmx_weekly,\n",
    "    gns_weekly,\n",
    "    kwenta_weekly,\n",
    "    level_weekly,\n",
    "    mux_weekly,\n",
    "    perp_weekly,\n",
    "    vertex_weekly\n",
    "])"
   ]
  },
  {
   "cell_type": "code",
   "execution_count": 20,
   "metadata": {},
   "outputs": [],
   "source": [
    "# save to csv in data folder\n",
    "weekly_perp_vol.write_csv('../data/weekly_perp_vol.csv')"
   ]
  },
  {
   "attachments": {},
   "cell_type": "markdown",
   "metadata": {},
   "source": [
    "### Daily data with tokens"
   ]
  },
  {
   "cell_type": "code",
   "execution_count": 21,
   "metadata": {},
   "outputs": [],
   "source": [
    "gmx = add_name_cols(gmx, 'GMX')\n",
    "gns = add_name_cols(gns, 'GNS')\n",
    "kwenta = add_name_cols(kwenta, 'KWENTA')\n",
    "level = add_name_cols(level, 'LEVEL')\n",
    "mux = add_name_cols(mux, 'MUX')\n",
    "perp = add_name_cols(perp, 'PERP')\n",
    "vertex = add_name_cols(vertex, 'VERTEX')"
   ]
  },
  {
   "cell_type": "code",
   "execution_count": 22,
   "metadata": {},
   "outputs": [],
   "source": [
    "# concat dataframes\n",
    "perp_margin_vol = pl.concat([gmx, gns, kwenta, level, mux, perp, vertex])"
   ]
  },
  {
   "cell_type": "code",
   "execution_count": 23,
   "metadata": {},
   "outputs": [
    {
     "data": {
      "text/html": [
       "<div><style>\n",
       ".dataframe > thead > tr > th,\n",
       ".dataframe > tbody > tr > td {\n",
       "  text-align: right;\n",
       "}\n",
       "</style>\n",
       "<small>shape: (5, 4)</small><table border=\"1\" class=\"dataframe\"><thead><tr><th>timestamp</th><th>token</th><th>volume</th><th>protocol</th></tr><tr><td>date</td><td>str</td><td>f64</td><td>str</td></tr></thead><tbody><tr><td>2023-07-01</td><td>&quot;LINK&quot;</td><td>998398.9461109834</td><td>&quot;GMX&quot;</td></tr><tr><td>2023-07-01</td><td>&quot;WETH&quot;</td><td>44020376.9708315</td><td>&quot;GMX&quot;</td></tr><tr><td>2023-07-01</td><td>&quot;UNI&quot;</td><td>2270084.2464602906</td><td>&quot;GMX&quot;</td></tr><tr><td>2023-07-01</td><td>&quot;WBTC&quot;</td><td>8127496.180891069</td><td>&quot;GMX&quot;</td></tr><tr><td>2023-07-01</td><td>&quot;AVAX&quot;</td><td>1529145.5261540012</td><td>&quot;GMX&quot;</td></tr></tbody></table></div>"
      ],
      "text/plain": [
       "shape: (5, 4)\n",
       "┌────────────┬───────┬────────────────────┬──────────┐\n",
       "│ timestamp  ┆ token ┆ volume             ┆ protocol │\n",
       "│ ---        ┆ ---   ┆ ---                ┆ ---      │\n",
       "│ date       ┆ str   ┆ f64                ┆ str      │\n",
       "╞════════════╪═══════╪════════════════════╪══════════╡\n",
       "│ 2023-07-01 ┆ LINK  ┆ 998398.9461109834  ┆ GMX      │\n",
       "│ 2023-07-01 ┆ WETH  ┆ 44020376.9708315   ┆ GMX      │\n",
       "│ 2023-07-01 ┆ UNI   ┆ 2270084.2464602906 ┆ GMX      │\n",
       "│ 2023-07-01 ┆ WBTC  ┆ 8127496.180891069  ┆ GMX      │\n",
       "│ 2023-07-01 ┆ AVAX  ┆ 1529145.5261540012 ┆ GMX      │\n",
       "└────────────┴───────┴────────────────────┴──────────┘"
      ]
     },
     "execution_count": 23,
     "metadata": {},
     "output_type": "execute_result"
    }
   ],
   "source": [
    "perp_margin_vol.head(5)"
   ]
  },
  {
   "cell_type": "code",
   "execution_count": 24,
   "metadata": {},
   "outputs": [],
   "source": [
    "# save to csv in data folder\n",
    "perp_margin_vol.write_csv('../data/perp_margin_vol.csv')"
   ]
  },
  {
   "cell_type": "code",
   "execution_count": null,
   "metadata": {},
   "outputs": [],
   "source": []
  }
 ],
 "metadata": {
  "kernelspec": {
   "display_name": ".venv",
   "language": "python",
   "name": "python3"
  },
  "language_info": {
   "codemirror_mode": {
    "name": "ipython",
    "version": 3
   },
   "file_extension": ".py",
   "mimetype": "text/x-python",
   "name": "python",
   "nbconvert_exporter": "python",
   "pygments_lexer": "ipython3",
   "version": "3.10.6"
  },
  "orig_nbformat": 4
 },
 "nbformat": 4,
 "nbformat_minor": 2
}
