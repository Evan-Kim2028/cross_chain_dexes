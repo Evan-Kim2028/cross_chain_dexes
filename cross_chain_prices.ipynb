{
 "cells": [
  {
   "cell_type": "code",
   "execution_count": 1,
   "metadata": {},
   "outputs": [
    {
     "data": {
      "text/plain": [
       "polars.config.Config"
      ]
     },
     "execution_count": 1,
     "metadata": {},
     "output_type": "execute_result"
    }
   ],
   "source": [
    "import polars as pl\n",
    "import pandas as pd\n",
    "\n",
    "pl.Config.set_fmt_str_lengths(200)\n",
    "pl.Config.set_fmt_float(\"full\")"
   ]
  },
  {
   "cell_type": "code",
   "execution_count": 2,
   "metadata": {},
   "outputs": [],
   "source": [
    "df_filepaths = 'data/univ3/*.parquet'"
   ]
  },
  {
   "cell_type": "code",
   "execution_count": 3,
   "metadata": {},
   "outputs": [],
   "source": [
    "def filter_swap_pairs(df_filepaths: str, token_0: str, token_0_decimal: int, token_1: str, token_1_decimal: int) -> pl.DataFrame:\n",
    "    '''\n",
    "    Filter data for a specific swap pair of tokens\n",
    "    '''\n",
    "\n",
    "    # scan for token 0 -> token 1 swap\n",
    "    q_in = (\n",
    "        pl.scan_parquet(df_filepaths)\n",
    "        .filter((pl.col(\"tokenIn_symbol\") == token_0) & (pl.col(\"tokenOut_symbol\") == token_1))\n",
    "    )\n",
    "\n",
    "    # convert query into df\n",
    "    df_in = q_in.collect()\n",
    "\n",
    "    # apply decimal converesion\n",
    "    df_in = df_in.with_columns(\n",
    "        amountIn= pl.col(\"amountIn\") / 10 ** token_0_decimal,\n",
    "        amountOut= pl.col(\"amountOut\") / 10 ** token_1_decimal\n",
    "    )\n",
    "\n",
    "    # calculate execution price\n",
    "    df_in = df_in.with_columns(\n",
    "        executionPrice= pl.col(\"amountOut\") / pl.col(\"amountIn\")\n",
    "    )\n",
    "\n",
    "    # scan for token 1 -> token 0 swap\n",
    "    q_out = (\n",
    "        pl.scan_parquet(df_filepaths)\n",
    "        .filter((pl.col(\"tokenIn_symbol\") == token_1) & (pl.col(\"tokenOut_symbol\") == token_0))\n",
    "    )\n",
    "\n",
    "    # convert query into df\n",
    "    df_out = q_out.collect()\n",
    "    \n",
    "    # apply decimal converesion\n",
    "    df_out = df_out.with_columns(\n",
    "        amountIn= pl.col(\"amountIn\") / 10 ** token_1_decimal,\n",
    "        amountOut= pl.col(\"amountOut\") / 10 ** token_0_decimal\n",
    "    )\n",
    "\n",
    "    # calculate execution price\n",
    "    df_out = df_out.with_columns(\n",
    "        executionPrice= pl.col(\"amountIn\") / pl.col(\"amountOut\")\n",
    "    )\n",
    "\n",
    "    # concat dfs\n",
    "    return pl.concat([df_in, df_out])"
   ]
  },
  {
   "cell_type": "code",
   "execution_count": 4,
   "metadata": {},
   "outputs": [],
   "source": [
    "swap_df_usdc = filter_swap_pairs(df_filepaths, 'WETH', 18, 'USDC', 6)\n",
    "swap_df_usdt = filter_swap_pairs(df_filepaths, 'WETH', 18, 'USDT', 6)\n",
    "# binance has pegged tokens and they both have 18 decimals\n",
    "swap_df_eth = filter_swap_pairs(df_filepaths, 'ETH', 18, 'USDC', 18)"
   ]
  },
  {
   "cell_type": "code",
   "execution_count": 5,
   "metadata": {},
   "outputs": [],
   "source": [
    "swap_df = pl.concat([swap_df_usdc, swap_df_usdt, swap_df_eth])"
   ]
  },
  {
   "cell_type": "code",
   "execution_count": 6,
   "metadata": {},
   "outputs": [
    {
     "data": {
      "text/plain": [
       "(6689345, 14)"
      ]
     },
     "execution_count": 6,
     "metadata": {},
     "output_type": "execute_result"
    }
   ],
   "source": [
    "swap_df.shape"
   ]
  },
  {
   "cell_type": "code",
   "execution_count": 7,
   "metadata": {},
   "outputs": [],
   "source": [
    "# filter out outlier values that are too large or too small. We get weird values probably due precision rounding errors because values are stored as float64s\n",
    "filter_swap_df = swap_df.filter((pl.col(\"executionPrice\") < 2500) & (pl.col(\"executionPrice\") > 1000))\n",
    "\n",
    "# second filter for transactions larger than $1 USD\n",
    "filter_swap_df = filter_swap_df.filter((pl.col(\"amountInUSD\") > 1) & (pl.col(\"amountOutUSD\") > 1))"
   ]
  },
  {
   "cell_type": "code",
   "execution_count": 8,
   "metadata": {},
   "outputs": [
    {
     "data": {
      "text/plain": [
       "(6431715, 14)"
      ]
     },
     "execution_count": 8,
     "metadata": {},
     "output_type": "execute_result"
    }
   ],
   "source": [
    "filter_swap_df.shape"
   ]
  },
  {
   "attachments": {},
   "cell_type": "markdown",
   "metadata": {},
   "source": [
    "### Standardize Price Format"
   ]
  },
  {
   "cell_type": "code",
   "execution_count": 9,
   "metadata": {},
   "outputs": [],
   "source": [
    "chain_price_df = pl.read_parquet('data/price/*.parquet')\n",
    "chain_price_df = chain_price_df.to_pandas()"
   ]
  },
  {
   "cell_type": "code",
   "execution_count": 10,
   "metadata": {},
   "outputs": [],
   "source": [
    "swap_df_pandas = filter_swap_df.to_pandas()\n",
    "\n",
    "# change column name from executionPrice to price\n",
    "dex_price_df = swap_df_pandas[['timestamp', 'executionPrice', 'blockchain']].rename(columns={'executionPrice': 'price'})\n",
    "\n",
    "# apply smoothing to the data grouped by blockchain\n",
    "dex_price_df['price'] = dex_price_df.groupby('blockchain')['price'].transform(lambda x: x.rolling(10, 1).mean())"
   ]
  },
  {
   "cell_type": "code",
   "execution_count": 11,
   "metadata": {},
   "outputs": [],
   "source": [
    "first_timestamp_chain = chain_price_df['timestamp'].min()\n",
    "last_timestamp_chain = chain_price_df['timestamp'].max()"
   ]
  },
  {
   "cell_type": "code",
   "execution_count": 12,
   "metadata": {},
   "outputs": [],
   "source": [
    "# create empty dataframe with timestamp range in second frequency\n",
    "price_index = pd.date_range(\n",
    "    first_timestamp_chain,\n",
    "    last_timestamp_chain,\n",
    "    freq='1s'\n",
    ")"
   ]
  },
  {
   "cell_type": "code",
   "execution_count": 13,
   "metadata": {},
   "outputs": [],
   "source": [
    "# change price_index into a dataframe\n",
    "price_index = pd.DataFrame(price_index, columns=['timestamp'])"
   ]
  },
  {
   "cell_type": "code",
   "execution_count": 14,
   "metadata": {},
   "outputs": [],
   "source": [
    "# left merge chain_df with empty timestamps_df\n",
    "price_oracle_chain_df = pd.merge(price_index, chain_price_df[['timestamp', 'price', 'blockchain']], on='timestamp', how='left')\n",
    "# Forward-fill missing values\n",
    "price_oracle_chain_df.fillna(method='ffill', inplace=True)\n",
    "# sort by timestamp\n",
    "price_oracle_chain_df = price_oracle_chain_df.sort_values('timestamp', ascending=True)"
   ]
  },
  {
   "cell_type": "code",
   "execution_count": 15,
   "metadata": {},
   "outputs": [],
   "source": [
    "df_data = []"
   ]
  },
  {
   "cell_type": "code",
   "execution_count": 16,
   "metadata": {},
   "outputs": [],
   "source": [
    "# TODO - optimize forward fill with polars instead of pandas?\n",
    "# https://stackoverflow.com/questions/73917061/forward-filling-by-column-values-in-python-polars\n",
    "\n",
    "# first get list of unique blockchain values\n",
    "blockchain_list = dex_price_df['blockchain'].unique().tolist()\n",
    "\n",
    "for blockchain in blockchain_list:\n",
    "    # filter dex_price_df by blockchain\n",
    "    filter_dex_price_df = dex_price_df[dex_price_df['blockchain'] == blockchain]\n",
    "    # left merge chain_df with empty timestamps_df\n",
    "    merged_df = pd.merge(price_index, filter_dex_price_df[['timestamp', 'price']], on='timestamp', how='left')\n",
    "    # Forward-fill missing values\n",
    "    merged_df.fillna(method='ffill', inplace=True)\n",
    "    # calucate the mean values of duplicate entries\n",
    "    merged_df = merged_df.groupby('timestamp').mean().reset_index()\n",
    "    # sort by timestamp\n",
    "    merged_df = merged_df.sort_values('timestamp', ascending=True)\n",
    "\n",
    "    # add blockchain column\n",
    "    merged_df['blockchain'] = blockchain\n",
    "    df_data.append(merged_df)\n",
    "    "
   ]
  },
  {
   "cell_type": "code",
   "execution_count": 17,
   "metadata": {},
   "outputs": [
    {
     "name": "stdout",
     "output_type": "stream",
     "text": [
      "(7770769, 3)\n",
      "(7770769, 3)\n",
      "(7770769, 3)\n",
      "(7770769, 3)\n",
      "(7770769, 3)\n",
      "(7770769, 3)\n"
     ]
    }
   ],
   "source": [
    "for df in df_data:\n",
    "    print(df.shape)\n",
    "\n",
    "print(price_oracle_chain_df.shape)"
   ]
  },
  {
   "cell_type": "code",
   "execution_count": 18,
   "metadata": {},
   "outputs": [],
   "source": [
    "# concat price_chain_oracle and all dfs in df_data\n",
    "final_price_oracle_df = pd.concat([price_oracle_chain_df] + df_data)"
   ]
  },
  {
   "cell_type": "code",
   "execution_count": 19,
   "metadata": {},
   "outputs": [
    {
     "data": {
      "text/html": [
       "<div>\n",
       "<style scoped>\n",
       "    .dataframe tbody tr th:only-of-type {\n",
       "        vertical-align: middle;\n",
       "    }\n",
       "\n",
       "    .dataframe tbody tr th {\n",
       "        vertical-align: top;\n",
       "    }\n",
       "\n",
       "    .dataframe thead th {\n",
       "        text-align: right;\n",
       "    }\n",
       "</style>\n",
       "<table border=\"1\" class=\"dataframe\">\n",
       "  <thead>\n",
       "    <tr style=\"text-align: right;\">\n",
       "      <th></th>\n",
       "      <th>timestamp</th>\n",
       "      <th>price</th>\n",
       "      <th>blockchain</th>\n",
       "    </tr>\n",
       "  </thead>\n",
       "  <tbody>\n",
       "    <tr>\n",
       "      <th>0</th>\n",
       "      <td>2023-03-01 05:22:47</td>\n",
       "      <td>1650.407264</td>\n",
       "      <td>chainlink</td>\n",
       "    </tr>\n",
       "    <tr>\n",
       "      <th>1</th>\n",
       "      <td>2023-03-01 05:22:48</td>\n",
       "      <td>1650.407264</td>\n",
       "      <td>chainlink</td>\n",
       "    </tr>\n",
       "    <tr>\n",
       "      <th>2</th>\n",
       "      <td>2023-03-01 05:22:49</td>\n",
       "      <td>1650.407264</td>\n",
       "      <td>chainlink</td>\n",
       "    </tr>\n",
       "    <tr>\n",
       "      <th>3</th>\n",
       "      <td>2023-03-01 05:22:50</td>\n",
       "      <td>1650.407264</td>\n",
       "      <td>chainlink</td>\n",
       "    </tr>\n",
       "    <tr>\n",
       "      <th>4</th>\n",
       "      <td>2023-03-01 05:22:51</td>\n",
       "      <td>1650.407264</td>\n",
       "      <td>chainlink</td>\n",
       "    </tr>\n",
       "    <tr>\n",
       "      <th>...</th>\n",
       "      <td>...</td>\n",
       "      <td>...</td>\n",
       "      <td>...</td>\n",
       "    </tr>\n",
       "    <tr>\n",
       "      <th>7770764</th>\n",
       "      <td>2023-05-30 03:55:31</td>\n",
       "      <td>1903.205341</td>\n",
       "      <td>bsc</td>\n",
       "    </tr>\n",
       "    <tr>\n",
       "      <th>7770765</th>\n",
       "      <td>2023-05-30 03:55:32</td>\n",
       "      <td>1903.205341</td>\n",
       "      <td>bsc</td>\n",
       "    </tr>\n",
       "    <tr>\n",
       "      <th>7770766</th>\n",
       "      <td>2023-05-30 03:55:33</td>\n",
       "      <td>1903.205341</td>\n",
       "      <td>bsc</td>\n",
       "    </tr>\n",
       "    <tr>\n",
       "      <th>7770767</th>\n",
       "      <td>2023-05-30 03:55:34</td>\n",
       "      <td>1903.205341</td>\n",
       "      <td>bsc</td>\n",
       "    </tr>\n",
       "    <tr>\n",
       "      <th>7770768</th>\n",
       "      <td>2023-05-30 03:55:35</td>\n",
       "      <td>1903.205341</td>\n",
       "      <td>bsc</td>\n",
       "    </tr>\n",
       "  </tbody>\n",
       "</table>\n",
       "<p>46624614 rows × 3 columns</p>\n",
       "</div>"
      ],
      "text/plain": [
       "                  timestamp        price blockchain\n",
       "0       2023-03-01 05:22:47  1650.407264  chainlink\n",
       "1       2023-03-01 05:22:48  1650.407264  chainlink\n",
       "2       2023-03-01 05:22:49  1650.407264  chainlink\n",
       "3       2023-03-01 05:22:50  1650.407264  chainlink\n",
       "4       2023-03-01 05:22:51  1650.407264  chainlink\n",
       "...                     ...          ...        ...\n",
       "7770764 2023-05-30 03:55:31  1903.205341        bsc\n",
       "7770765 2023-05-30 03:55:32  1903.205341        bsc\n",
       "7770766 2023-05-30 03:55:33  1903.205341        bsc\n",
       "7770767 2023-05-30 03:55:34  1903.205341        bsc\n",
       "7770768 2023-05-30 03:55:35  1903.205341        bsc\n",
       "\n",
       "[46624614 rows x 3 columns]"
      ]
     },
     "execution_count": 19,
     "metadata": {},
     "output_type": "execute_result"
    }
   ],
   "source": [
    "final_price_oracle_df"
   ]
  },
  {
   "cell_type": "code",
   "execution_count": 20,
   "metadata": {},
   "outputs": [],
   "source": [
    "# for value in df_data, remove value\n",
    "del df_data"
   ]
  },
  {
   "attachments": {},
   "cell_type": "markdown",
   "metadata": {},
   "source": [
    "### Plotting"
   ]
  },
  {
   "cell_type": "code",
   "execution_count": 21,
   "metadata": {},
   "outputs": [],
   "source": [
    "# reset index\n",
    "plot_df = final_price_oracle_df.reset_index()"
   ]
  },
  {
   "cell_type": "code",
   "execution_count": 22,
   "metadata": {},
   "outputs": [],
   "source": [
    "# pivot blockchain column to column headers. Make token the index\n",
    "pivot_df = plot_df.pivot(index='timestamp', columns='blockchain', values='price')"
   ]
  },
  {
   "cell_type": "code",
   "execution_count": 23,
   "metadata": {},
   "outputs": [
    {
     "data": {
      "text/html": [
       "<div>\n",
       "<style scoped>\n",
       "    .dataframe tbody tr th:only-of-type {\n",
       "        vertical-align: middle;\n",
       "    }\n",
       "\n",
       "    .dataframe tbody tr th {\n",
       "        vertical-align: top;\n",
       "    }\n",
       "\n",
       "    .dataframe thead th {\n",
       "        text-align: right;\n",
       "    }\n",
       "</style>\n",
       "<table border=\"1\" class=\"dataframe\">\n",
       "  <thead>\n",
       "    <tr style=\"text-align: right;\">\n",
       "      <th>blockchain</th>\n",
       "      <th>arbitrum</th>\n",
       "      <th>bsc</th>\n",
       "      <th>chainlink</th>\n",
       "      <th>ethereum</th>\n",
       "      <th>optimism</th>\n",
       "      <th>polygon</th>\n",
       "    </tr>\n",
       "    <tr>\n",
       "      <th>timestamp</th>\n",
       "      <th></th>\n",
       "      <th></th>\n",
       "      <th></th>\n",
       "      <th></th>\n",
       "      <th></th>\n",
       "      <th></th>\n",
       "    </tr>\n",
       "  </thead>\n",
       "  <tbody>\n",
       "    <tr>\n",
       "      <th>2023-03-01 05:22:47</th>\n",
       "      <td>NaN</td>\n",
       "      <td>NaN</td>\n",
       "      <td>1650.407264</td>\n",
       "      <td>1651.642600</td>\n",
       "      <td>NaN</td>\n",
       "      <td>NaN</td>\n",
       "    </tr>\n",
       "    <tr>\n",
       "      <th>2023-03-01 05:22:48</th>\n",
       "      <td>NaN</td>\n",
       "      <td>NaN</td>\n",
       "      <td>1650.407264</td>\n",
       "      <td>1652.939547</td>\n",
       "      <td>NaN</td>\n",
       "      <td>NaN</td>\n",
       "    </tr>\n",
       "    <tr>\n",
       "      <th>2023-03-01 05:22:49</th>\n",
       "      <td>NaN</td>\n",
       "      <td>NaN</td>\n",
       "      <td>1650.407264</td>\n",
       "      <td>1652.939547</td>\n",
       "      <td>NaN</td>\n",
       "      <td>NaN</td>\n",
       "    </tr>\n",
       "    <tr>\n",
       "      <th>2023-03-01 05:22:50</th>\n",
       "      <td>NaN</td>\n",
       "      <td>NaN</td>\n",
       "      <td>1650.407264</td>\n",
       "      <td>1652.939547</td>\n",
       "      <td>NaN</td>\n",
       "      <td>NaN</td>\n",
       "    </tr>\n",
       "    <tr>\n",
       "      <th>2023-03-01 05:22:51</th>\n",
       "      <td>NaN</td>\n",
       "      <td>NaN</td>\n",
       "      <td>1650.407264</td>\n",
       "      <td>1652.939547</td>\n",
       "      <td>NaN</td>\n",
       "      <td>NaN</td>\n",
       "    </tr>\n",
       "    <tr>\n",
       "      <th>...</th>\n",
       "      <td>...</td>\n",
       "      <td>...</td>\n",
       "      <td>...</td>\n",
       "      <td>...</td>\n",
       "      <td>...</td>\n",
       "      <td>...</td>\n",
       "    </tr>\n",
       "    <tr>\n",
       "      <th>2023-05-30 03:55:31</th>\n",
       "      <td>1902.468522</td>\n",
       "      <td>1903.205341</td>\n",
       "      <td>1909.117200</td>\n",
       "      <td>1903.696286</td>\n",
       "      <td>1904.358345</td>\n",
       "      <td>1904.330730</td>\n",
       "    </tr>\n",
       "    <tr>\n",
       "      <th>2023-05-30 03:55:32</th>\n",
       "      <td>1902.468522</td>\n",
       "      <td>1903.205341</td>\n",
       "      <td>1909.117200</td>\n",
       "      <td>1903.696286</td>\n",
       "      <td>1904.358345</td>\n",
       "      <td>1902.312289</td>\n",
       "    </tr>\n",
       "    <tr>\n",
       "      <th>2023-05-30 03:55:33</th>\n",
       "      <td>1902.468522</td>\n",
       "      <td>1903.205341</td>\n",
       "      <td>1909.117200</td>\n",
       "      <td>1903.696286</td>\n",
       "      <td>1904.358345</td>\n",
       "      <td>1902.312289</td>\n",
       "    </tr>\n",
       "    <tr>\n",
       "      <th>2023-05-30 03:55:34</th>\n",
       "      <td>1902.468522</td>\n",
       "      <td>1903.205341</td>\n",
       "      <td>1909.117200</td>\n",
       "      <td>1903.696286</td>\n",
       "      <td>1904.358345</td>\n",
       "      <td>1902.312289</td>\n",
       "    </tr>\n",
       "    <tr>\n",
       "      <th>2023-05-30 03:55:35</th>\n",
       "      <td>1902.468522</td>\n",
       "      <td>1903.205341</td>\n",
       "      <td>1903.280000</td>\n",
       "      <td>1901.434710</td>\n",
       "      <td>1904.358345</td>\n",
       "      <td>1902.312289</td>\n",
       "    </tr>\n",
       "  </tbody>\n",
       "</table>\n",
       "<p>7770769 rows × 6 columns</p>\n",
       "</div>"
      ],
      "text/plain": [
       "blockchain              arbitrum          bsc    chainlink     ethereum  \\\n",
       "timestamp                                                                 \n",
       "2023-03-01 05:22:47          NaN          NaN  1650.407264  1651.642600   \n",
       "2023-03-01 05:22:48          NaN          NaN  1650.407264  1652.939547   \n",
       "2023-03-01 05:22:49          NaN          NaN  1650.407264  1652.939547   \n",
       "2023-03-01 05:22:50          NaN          NaN  1650.407264  1652.939547   \n",
       "2023-03-01 05:22:51          NaN          NaN  1650.407264  1652.939547   \n",
       "...                          ...          ...          ...          ...   \n",
       "2023-05-30 03:55:31  1902.468522  1903.205341  1909.117200  1903.696286   \n",
       "2023-05-30 03:55:32  1902.468522  1903.205341  1909.117200  1903.696286   \n",
       "2023-05-30 03:55:33  1902.468522  1903.205341  1909.117200  1903.696286   \n",
       "2023-05-30 03:55:34  1902.468522  1903.205341  1909.117200  1903.696286   \n",
       "2023-05-30 03:55:35  1902.468522  1903.205341  1903.280000  1901.434710   \n",
       "\n",
       "blockchain              optimism      polygon  \n",
       "timestamp                                      \n",
       "2023-03-01 05:22:47          NaN          NaN  \n",
       "2023-03-01 05:22:48          NaN          NaN  \n",
       "2023-03-01 05:22:49          NaN          NaN  \n",
       "2023-03-01 05:22:50          NaN          NaN  \n",
       "2023-03-01 05:22:51          NaN          NaN  \n",
       "...                          ...          ...  \n",
       "2023-05-30 03:55:31  1904.358345  1904.330730  \n",
       "2023-05-30 03:55:32  1904.358345  1902.312289  \n",
       "2023-05-30 03:55:33  1904.358345  1902.312289  \n",
       "2023-05-30 03:55:34  1904.358345  1902.312289  \n",
       "2023-05-30 03:55:35  1904.358345  1902.312289  \n",
       "\n",
       "[7770769 rows x 6 columns]"
      ]
     },
     "execution_count": 23,
     "metadata": {},
     "output_type": "execute_result"
    }
   ],
   "source": [
    "pivot_df"
   ]
  },
  {
   "cell_type": "code",
   "execution_count": 24,
   "metadata": {},
   "outputs": [],
   "source": [
    "# copy pivot df\n",
    "price_deviation_df = pivot_df.copy(deep=True)"
   ]
  },
  {
   "cell_type": "code",
   "execution_count": 25,
   "metadata": {},
   "outputs": [],
   "source": [
    "# add columns for price deviation\n",
    "price_deviation_df['arbitrum'] = (price_deviation_df['arbitrum'] - price_deviation_df['chainlink']) / 100\n",
    "price_deviation_df['bsc'] = (price_deviation_df['bsc'] - price_deviation_df['chainlink']) / 100\n",
    "price_deviation_df['ethereum'] = (price_deviation_df['ethereum'] - price_deviation_df['chainlink']) / 100\n",
    "price_deviation_df['optimism'] = (price_deviation_df['optimism'] - price_deviation_df['chainlink']) / 100\n",
    "price_deviation_df['polygon'] = (price_deviation_df['polygon'] - price_deviation_df['chainlink']) / 100"
   ]
  },
  {
   "cell_type": "code",
   "execution_count": 26,
   "metadata": {},
   "outputs": [
    {
     "data": {
      "text/html": [
       "<div>\n",
       "<style scoped>\n",
       "    .dataframe tbody tr th:only-of-type {\n",
       "        vertical-align: middle;\n",
       "    }\n",
       "\n",
       "    .dataframe tbody tr th {\n",
       "        vertical-align: top;\n",
       "    }\n",
       "\n",
       "    .dataframe thead th {\n",
       "        text-align: right;\n",
       "    }\n",
       "</style>\n",
       "<table border=\"1\" class=\"dataframe\">\n",
       "  <thead>\n",
       "    <tr style=\"text-align: right;\">\n",
       "      <th>blockchain</th>\n",
       "      <th>arbitrum</th>\n",
       "      <th>bsc</th>\n",
       "      <th>chainlink</th>\n",
       "      <th>ethereum</th>\n",
       "      <th>optimism</th>\n",
       "      <th>polygon</th>\n",
       "    </tr>\n",
       "    <tr>\n",
       "      <th>timestamp</th>\n",
       "      <th></th>\n",
       "      <th></th>\n",
       "      <th></th>\n",
       "      <th></th>\n",
       "      <th></th>\n",
       "      <th></th>\n",
       "    </tr>\n",
       "  </thead>\n",
       "  <tbody>\n",
       "    <tr>\n",
       "      <th>2023-03-01 05:22:47</th>\n",
       "      <td>NaN</td>\n",
       "      <td>NaN</td>\n",
       "      <td>1650.407264</td>\n",
       "      <td>0.012353</td>\n",
       "      <td>NaN</td>\n",
       "      <td>NaN</td>\n",
       "    </tr>\n",
       "    <tr>\n",
       "      <th>2023-03-01 05:22:48</th>\n",
       "      <td>NaN</td>\n",
       "      <td>NaN</td>\n",
       "      <td>1650.407264</td>\n",
       "      <td>0.025323</td>\n",
       "      <td>NaN</td>\n",
       "      <td>NaN</td>\n",
       "    </tr>\n",
       "    <tr>\n",
       "      <th>2023-03-01 05:22:49</th>\n",
       "      <td>NaN</td>\n",
       "      <td>NaN</td>\n",
       "      <td>1650.407264</td>\n",
       "      <td>0.025323</td>\n",
       "      <td>NaN</td>\n",
       "      <td>NaN</td>\n",
       "    </tr>\n",
       "    <tr>\n",
       "      <th>2023-03-01 05:22:50</th>\n",
       "      <td>NaN</td>\n",
       "      <td>NaN</td>\n",
       "      <td>1650.407264</td>\n",
       "      <td>0.025323</td>\n",
       "      <td>NaN</td>\n",
       "      <td>NaN</td>\n",
       "    </tr>\n",
       "    <tr>\n",
       "      <th>2023-03-01 05:22:51</th>\n",
       "      <td>NaN</td>\n",
       "      <td>NaN</td>\n",
       "      <td>1650.407264</td>\n",
       "      <td>0.025323</td>\n",
       "      <td>NaN</td>\n",
       "      <td>NaN</td>\n",
       "    </tr>\n",
       "    <tr>\n",
       "      <th>...</th>\n",
       "      <td>...</td>\n",
       "      <td>...</td>\n",
       "      <td>...</td>\n",
       "      <td>...</td>\n",
       "      <td>...</td>\n",
       "      <td>...</td>\n",
       "    </tr>\n",
       "    <tr>\n",
       "      <th>2023-05-30 03:55:31</th>\n",
       "      <td>-0.066487</td>\n",
       "      <td>-0.059119</td>\n",
       "      <td>1909.117200</td>\n",
       "      <td>-0.054209</td>\n",
       "      <td>-0.047589</td>\n",
       "      <td>-0.047865</td>\n",
       "    </tr>\n",
       "    <tr>\n",
       "      <th>2023-05-30 03:55:32</th>\n",
       "      <td>-0.066487</td>\n",
       "      <td>-0.059119</td>\n",
       "      <td>1909.117200</td>\n",
       "      <td>-0.054209</td>\n",
       "      <td>-0.047589</td>\n",
       "      <td>-0.068049</td>\n",
       "    </tr>\n",
       "    <tr>\n",
       "      <th>2023-05-30 03:55:33</th>\n",
       "      <td>-0.066487</td>\n",
       "      <td>-0.059119</td>\n",
       "      <td>1909.117200</td>\n",
       "      <td>-0.054209</td>\n",
       "      <td>-0.047589</td>\n",
       "      <td>-0.068049</td>\n",
       "    </tr>\n",
       "    <tr>\n",
       "      <th>2023-05-30 03:55:34</th>\n",
       "      <td>-0.066487</td>\n",
       "      <td>-0.059119</td>\n",
       "      <td>1909.117200</td>\n",
       "      <td>-0.054209</td>\n",
       "      <td>-0.047589</td>\n",
       "      <td>-0.068049</td>\n",
       "    </tr>\n",
       "    <tr>\n",
       "      <th>2023-05-30 03:55:35</th>\n",
       "      <td>-0.008115</td>\n",
       "      <td>-0.000747</td>\n",
       "      <td>1903.280000</td>\n",
       "      <td>-0.018453</td>\n",
       "      <td>0.010783</td>\n",
       "      <td>-0.009677</td>\n",
       "    </tr>\n",
       "  </tbody>\n",
       "</table>\n",
       "<p>7770769 rows × 6 columns</p>\n",
       "</div>"
      ],
      "text/plain": [
       "blockchain           arbitrum       bsc    chainlink  ethereum  optimism  \\\n",
       "timestamp                                                                  \n",
       "2023-03-01 05:22:47       NaN       NaN  1650.407264  0.012353       NaN   \n",
       "2023-03-01 05:22:48       NaN       NaN  1650.407264  0.025323       NaN   \n",
       "2023-03-01 05:22:49       NaN       NaN  1650.407264  0.025323       NaN   \n",
       "2023-03-01 05:22:50       NaN       NaN  1650.407264  0.025323       NaN   \n",
       "2023-03-01 05:22:51       NaN       NaN  1650.407264  0.025323       NaN   \n",
       "...                       ...       ...          ...       ...       ...   \n",
       "2023-05-30 03:55:31 -0.066487 -0.059119  1909.117200 -0.054209 -0.047589   \n",
       "2023-05-30 03:55:32 -0.066487 -0.059119  1909.117200 -0.054209 -0.047589   \n",
       "2023-05-30 03:55:33 -0.066487 -0.059119  1909.117200 -0.054209 -0.047589   \n",
       "2023-05-30 03:55:34 -0.066487 -0.059119  1909.117200 -0.054209 -0.047589   \n",
       "2023-05-30 03:55:35 -0.008115 -0.000747  1903.280000 -0.018453  0.010783   \n",
       "\n",
       "blockchain            polygon  \n",
       "timestamp                      \n",
       "2023-03-01 05:22:47       NaN  \n",
       "2023-03-01 05:22:48       NaN  \n",
       "2023-03-01 05:22:49       NaN  \n",
       "2023-03-01 05:22:50       NaN  \n",
       "2023-03-01 05:22:51       NaN  \n",
       "...                       ...  \n",
       "2023-05-30 03:55:31 -0.047865  \n",
       "2023-05-30 03:55:32 -0.068049  \n",
       "2023-05-30 03:55:33 -0.068049  \n",
       "2023-05-30 03:55:34 -0.068049  \n",
       "2023-05-30 03:55:35 -0.009677  \n",
       "\n",
       "[7770769 rows x 6 columns]"
      ]
     },
     "execution_count": 26,
     "metadata": {},
     "output_type": "execute_result"
    }
   ],
   "source": [
    "price_deviation_df"
   ]
  },
  {
   "cell_type": "code",
   "execution_count": 38,
   "metadata": {},
   "outputs": [],
   "source": [
    "import matplotlib.pyplot as plt\n",
    "import matplotlib.ticker as ticker\n",
    "\n",
    "import thanefield_charting as tc"
   ]
  },
  {
   "cell_type": "code",
   "execution_count": 50,
   "metadata": {},
   "outputs": [
    {
     "data": {
      "image/png": "[encoded data removed]",
      "text/plain": [
       "<Figure size 800x800 with 5 Axes>"
      ]
     },
     "metadata": {},
     "output_type": "display_data"
    }
   ],
   "source": [
    "import matplotlib.pyplot as plt\n",
    "\n",
    "def format_y_ticks(value, pos):\n",
    "    if value >= 1e9:\n",
    "        return f'{value / 1e9:.1f}B'\n",
    "    elif value >= 1e6:\n",
    "        return f'{value / 1e6:.1f}M'\n",
    "    elif value >= 1e3:\n",
    "        return f'{value / 1e3:.1f}K'\n",
    "    else:\n",
    "        return f'{value:.0f}'\n",
    "    \n",
    "\n",
    "# Create a figure and an array of subplots\n",
    "fig, axs = plt.subplots(3, 2, figsize=(8, 8))\n",
    "\n",
    "# Define the data and labels for each histogram\n",
    "data = {\n",
    "    'ethereum': price_deviation_df['ethereum'],\n",
    "    'arbitrum': price_deviation_df['arbitrum'],\n",
    "    'bsc': price_deviation_df['bsc'],\n",
    "    'optimism': price_deviation_df['optimism'],\n",
    "    'polygon': price_deviation_df['polygon']\n",
    "}\n",
    "\n",
    "labels = ['ethereum', 'arbitrum', 'bsc', 'optimism', 'polygon']\n",
    "colors = ['darkblue', 'lightblue', 'darkkhaki', 'darkred', 'darkviolet']\n",
    "\n",
    "\n",
    "# Iterate over the subplots and create histograms\n",
    "for i, ax in enumerate(axs.flat):\n",
    "    if i < len(labels):\n",
    "        ax.hist(data[labels[i]], bins=250, color=colors[i].format(i))\n",
    "        ax.set_title(labels[i])\n",
    "\n",
    "        # Set common x and y axis limits\n",
    "        ax.set_xlim(-0.2, 0.2)\n",
    "        \n",
    "        # set y axis formatter\n",
    "        ax.yaxis.set_major_formatter(ticker.FuncFormatter(format_y_ticks))\n",
    "\n",
    "    else:\n",
    "        # Remove empty subplot\n",
    "        fig.delaxes(ax)\n",
    "\n",
    "# Adjust the spacing between subplots\n",
    "plt.tight_layout()\n",
    "\n",
    "# Add a main title\n",
    "fig.suptitle('ETH Price Deviation from Chainlink (March - June)', fontsize=16, fontweight='bold', y=1.03)\n",
    "\n",
    "# Show the plot\n",
    "plt.show()\n",
    "\n",
    "# save picture\n",
    "fig.savefig('charts/eth_price_deviation.png', dpi=300, bbox_inches='tight')"
   ]
  },
  {
   "cell_type": "code",
   "execution_count": null,
   "metadata": {},
   "outputs": [],
   "source": []
  }
 ],
 "metadata": {
  "kernelspec": {
   "display_name": ".venv",
   "language": "python",
   "name": "python3"
  },
  "language_info": {
   "codemirror_mode": {
    "name": "ipython",
    "version": 3
   },
   "file_extension": ".py",
   "mimetype": "text/x-python",
   "name": "python",
   "nbconvert_exporter": "python",
   "pygments_lexer": "ipython3",
   "version": "3.10.6"
  },
  "orig_nbformat": 4
 },
 "nbformat": 4,
 "nbformat_minor": 2
}
