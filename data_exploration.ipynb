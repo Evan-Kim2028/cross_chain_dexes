{
 "cells": [
  {
   "cell_type": "code",
   "execution_count": 1,
   "metadata": {},
   "outputs": [
    {
     "data": {
      "text/plain": [
       "polars.config.Config"
      ]
     },
     "execution_count": 1,
     "metadata": {},
     "output_type": "execute_result"
    }
   ],
   "source": [
    "import polars as pl\n",
    "import os\n",
    "\n",
    "pl.Config.set_fmt_str_lengths(200)"
   ]
  },
  {
   "cell_type": "code",
   "execution_count": 2,
   "metadata": {},
   "outputs": [],
   "source": [
    "my_dfs = []"
   ]
  },
  {
   "cell_type": "code",
   "execution_count": 3,
   "metadata": {},
   "outputs": [],
   "source": [
    "subfolder = 'optimism-perps'"
   ]
  },
  {
   "cell_type": "code",
   "execution_count": 4,
   "metadata": {},
   "outputs": [
    {
     "name": "stdout",
     "output_type": "stream",
     "text": [
      "optimism-perps_swaps_05-26_05-27.parquet: 0.023472 MB\n",
      "df size: (150, 19)\n",
      "optimism-perps_swaps_05-27_05-28.parquet: 0.023563 MB\n",
      "df size: (150, 19)\n",
      "optimism-perps_swaps_05-30_05-31.parquet: 0.023379 MB\n",
      "df size: (150, 19)\n",
      "optimism-perps_swaps_05-29_05-30.parquet: 0.022572 MB\n"
     ]
    },
    {
     "ename": "ComputeError",
     "evalue": "strict conversion from `f64` to `i64` failed for value(s) [1.3145e20, -1.1336e20]; if you were trying to cast Utf8 to temporal dtypes, consider using `strptime`",
     "output_type": "error",
     "traceback": [
      "\u001b[0;31m---------------------------------------------------------------------------\u001b[0m",
      "\u001b[0;31mComputeError\u001b[0m                              Traceback (most recent call last)",
      "Cell \u001b[0;32mIn[4], line 9\u001b[0m\n\u001b[1;32m      4\u001b[0m df \u001b[39m=\u001b[39m pl\u001b[39m.\u001b[39mread_parquet(\u001b[39mf\u001b[39m\u001b[39m'\u001b[39m\u001b[39mdata/\u001b[39m\u001b[39m{\u001b[39;00msubfolder\u001b[39m}\u001b[39;00m\u001b[39m/\u001b[39m\u001b[39m{\u001b[39;00mfile\u001b[39m}\u001b[39;00m\u001b[39m'\u001b[39m)\n\u001b[1;32m      6\u001b[0m \u001b[39m# ensure fundingAccrued is type f64\u001b[39;00m\n\u001b[1;32m      8\u001b[0m df \u001b[39m=\u001b[39m df\u001b[39m.\u001b[39mwith_columns(\n\u001b[0;32m----> 9\u001b[0m     df[\u001b[39m'\u001b[39;49m\u001b[39mfundingAccrued\u001b[39;49m\u001b[39m'\u001b[39;49m]\u001b[39m.\u001b[39;49mcast(pl\u001b[39m.\u001b[39;49mInt64)\n\u001b[1;32m     10\u001b[0m )\n\u001b[1;32m     12\u001b[0m \u001b[39mprint\u001b[39m(\u001b[39mf\u001b[39m\u001b[39m'\u001b[39m\u001b[39mdf size: \u001b[39m\u001b[39m{\u001b[39;00mdf\u001b[39m.\u001b[39mshape\u001b[39m}\u001b[39;00m\u001b[39m'\u001b[39m)\n\u001b[1;32m     13\u001b[0m my_dfs\u001b[39m.\u001b[39mappend(df)\n",
      "File \u001b[0;32m~/Documents/github/kwenta_pipe/.venv/lib/python3.10/site-packages/polars/series/series.py:3041\u001b[0m, in \u001b[0;36mSeries.cast\u001b[0;34m(self, dtype, strict)\u001b[0m\n\u001b[1;32m   3039\u001b[0m \u001b[39m# Do not dispatch cast as it is expensive and used in other functions.\u001b[39;00m\n\u001b[1;32m   3040\u001b[0m dtype \u001b[39m=\u001b[39m py_type_to_dtype(dtype)\n\u001b[0;32m-> 3041\u001b[0m \u001b[39mreturn\u001b[39;00m \u001b[39mself\u001b[39m\u001b[39m.\u001b[39m_from_pyseries(\u001b[39mself\u001b[39;49m\u001b[39m.\u001b[39;49m_s\u001b[39m.\u001b[39;49mcast(dtype, strict))\n",
      "\u001b[0;31mComputeError\u001b[0m: strict conversion from `f64` to `i64` failed for value(s) [1.3145e20, -1.1336e20]; if you were trying to cast Utf8 to temporal dtypes, consider using `strptime`"
     ]
    }
   ],
   "source": [
    "for file in os.listdir(f'data/{subfolder}'):\n",
    "    # print size of file\n",
    "    print(f'{file}: {os.path.getsize(f\"data/{subfolder}/{file}\") / 1e6} MB')\n",
    "    df = pl.read_parquet(f'data/{subfolder}/{file}')\n",
    "\n",
    "\n",
    "    df = df.with_columns(\n",
    "        df['fundingAccrued'].cast(pl.Float64)\n",
    "    )\n",
    "\n",
    "    print(f'df size: {df.shape}')\n",
    "    my_dfs.append(df)"
   ]
  },
  {
   "cell_type": "code",
   "execution_count": null,
   "metadata": {},
   "outputs": [
    {
     "ename": "ShapeError",
     "evalue": "unable to vstack, dtypes for column \"fundingAccrued\" don't match: `i64` and `f64`",
     "output_type": "error",
     "traceback": [
      "\u001b[0;31m---------------------------------------------------------------------------\u001b[0m",
      "\u001b[0;31mShapeError\u001b[0m                                Traceback (most recent call last)",
      "Cell \u001b[0;32mIn[18], line 1\u001b[0m\n\u001b[0;32m----> 1\u001b[0m dexes \u001b[39m=\u001b[39m pl\u001b[39m.\u001b[39;49mconcat(my_dfs)\n\u001b[1;32m      3\u001b[0m \u001b[39m# sort by timestamp\u001b[39;00m\n\u001b[1;32m      4\u001b[0m dexes \u001b[39m=\u001b[39m dexes\u001b[39m.\u001b[39msort(\u001b[39m'\u001b[39m\u001b[39mtimestamp\u001b[39m\u001b[39m'\u001b[39m)\n",
      "File \u001b[0;32m~/Documents/github/kwenta_pipe/.venv/lib/python3.10/site-packages/polars/functions/eager.py:164\u001b[0m, in \u001b[0;36mconcat\u001b[0;34m(items, how, rechunk, parallel)\u001b[0m\n\u001b[1;32m    162\u001b[0m \u001b[39mif\u001b[39;00m \u001b[39misinstance\u001b[39m(first, pl\u001b[39m.\u001b[39mDataFrame):\n\u001b[1;32m    163\u001b[0m     \u001b[39mif\u001b[39;00m how \u001b[39m==\u001b[39m \u001b[39m\"\u001b[39m\u001b[39mvertical\u001b[39m\u001b[39m\"\u001b[39m:\n\u001b[0;32m--> 164\u001b[0m         out \u001b[39m=\u001b[39m wrap_df(plr\u001b[39m.\u001b[39;49mconcat_df(elems))\n\u001b[1;32m    165\u001b[0m     \u001b[39melif\u001b[39;00m how \u001b[39m==\u001b[39m \u001b[39m\"\u001b[39m\u001b[39mdiagonal\u001b[39m\u001b[39m\"\u001b[39m:\n\u001b[1;32m    166\u001b[0m         out \u001b[39m=\u001b[39m wrap_df(plr\u001b[39m.\u001b[39mdiag_concat_df(elems))\n",
      "\u001b[0;31mShapeError\u001b[0m: unable to vstack, dtypes for column \"fundingAccrued\" don't match: `i64` and `f64`"
     ]
    }
   ],
   "source": [
    "dexes = pl.concat(my_dfs)\n",
    "\n",
    "# sort by timestamp\n",
    "dexes = dexes.sort('timestamp')"
   ]
  },
  {
   "cell_type": "code",
   "execution_count": null,
   "metadata": {},
   "outputs": [],
   "source": [
    "dexes = dexes.unique()"
   ]
  },
  {
   "cell_type": "code",
   "execution_count": null,
   "metadata": {},
   "outputs": [
    {
     "data": {
      "text/plain": [
       "(900, 29)"
      ]
     },
     "execution_count": 9,
     "metadata": {},
     "output_type": "execute_result"
    }
   ],
   "source": [
    "dexes.shape"
   ]
  },
  {
   "cell_type": "code",
   "execution_count": null,
   "metadata": {},
   "outputs": [
    {
     "data": {
      "text/html": [
       "<div><style>\n",
       ".dataframe > thead > tr > th,\n",
       ".dataframe > tbody > tr > td {\n",
       "  text-align: right;\n",
       "}\n",
       "</style>\n",
       "<small>shape: (5, 29)</small><table border=\"1\" class=\"dataframe\"><thead><tr><th>lastTxHash</th><th>openTimestamp</th><th>closeTimestamp</th><th>market</th><th>asset</th><th>marketKey</th><th>account</th><th>abstractAccount</th><th>accountType</th><th>isOpen</th><th>isLiquidated</th><th>trades</th><th>totalVolume</th><th>size</th><th>initialMargin</th><th>margin</th><th>pnl</th><th>feesPaid</th><th>netFunding</th><th>pnlWithFeesPaid</th><th>netTransfers</th><th>totalDeposits</th><th>fundingIndex</th><th>entryPrice</th><th>avgEntryPrice</th><th>lastPrice</th><th>exitPrice</th><th>id</th><th>timestamp</th></tr><tr><td>str</td><td>i64</td><td>i64</td><td>str</td><td>str</td><td>str</td><td>str</td><td>str</td><td>str</td><td>bool</td><td>bool</td><td>i64</td><td>f64</td><td>f64</td><td>f64</td><td>f64</td><td>f64</td><td>f64</td><td>f64</td><td>f64</td><td>f64</td><td>f64</td><td>i64</td><td>f64</td><td>f64</td><td>f64</td><td>f64</td><td>str</td><td>i64</td></tr></thead><tbody><tr><td>&quot;0x75890de4de52daa6e85bb3a7c22275f24456419d6383eff9af15952ed2633a3e&quot;</td><td>1684896408</td><td>1685495189</td><td>&quot;0x509072a5ae4a87ac89fc8d64d94adcb44bd4b88e&quot;</td><td>&quot;0x4152420000000000000000000000000000000000000000000000000000000000&quot;</td><td>&quot;0x7341524250455250000000000000000000000000000000000000000000000000&quot;</td><td>&quot;0xbde9dc44e4ef91d5d667489db0e2d45415430ac2&quot;</td><td>&quot;0xcbbb8cdfbbb0f7c9f8ad1e4a94418309b7f007d1&quot;</td><td>&quot;smart_margin&quot;</td><td>false</td><td>false</td><td>2</td><td>9.9606e20</td><td>0.0</td><td>5.7138e19</td><td>8.7598e19</td><td>3.6413e19</td><td>6.6663e18</td><td>-2.1491e18</td><td>3.0819e19</td><td>0.0</td><td>0.0</td><td>35537</td><td>1.1446e18</td><td>1.1446e18</td><td>1.2315e18</td><td>1.2315e18</td><td>&quot;0x509072a5ae4a87ac89fc8d64d94adcb44bd4b88e-0xd54&quot;</td><td>1685495189</td></tr><tr><td>&quot;0x1dcbd1c5d8dee4d97a9acc45f95bebd1c8f32098c9064d9a1e2d7872cc023222&quot;</td><td>1685467484</td><td>1685498779</td><td>&quot;0xa1ace9ce6862e865937939005b1a6c5ac938a11f&quot;</td><td>&quot;0x424c555200000000000000000000000000000000000000000000000000000000&quot;</td><td>&quot;0x73424c5552504552500000000000000000000000000000000000000000000000&quot;</td><td>&quot;0x71f6d9e79c8cd3c5c2f9d2575dc46fb430c12d54&quot;</td><td>&quot;0xf3ec90de90e46abf9f516dc221b9be6d7b71419c&quot;</td><td>&quot;smart_margin&quot;</td><td>false</td><td>false</td><td>2</td><td>4.0889e22</td><td>0.0</td><td>1.7700e21</td><td>1.7072e21</td><td>1.6647e18</td><td>4.7521e19</td><td>-2.1528e19</td><td>-6.4164e19</td><td>0.0</td><td>0.0</td><td>393</td><td>4.9787e17</td><td>4.9787e17</td><td>4.9791e17</td><td>4.9791e17</td><td>&quot;0xa1ace9ce6862e865937939005b1a6c5ac938a11f-0x2d&quot;</td><td>1685498779</td></tr><tr><td>&quot;0xfd8e9d8bb2b3cd93ab5e44d94bd5dfff6c43b979e48951f0a7b298529ff1145a&quot;</td><td>1685502375</td><td>1685503369</td><td>&quot;0x0ea09d97b4084d859328ec4bf8ebcf9ecca26f1d&quot;</td><td>&quot;0x534f4c0000000000000000000000000000000000000000000000000000000000&quot;</td><td>&quot;0x73534f4c50455250000000000000000000000000000000000000000000000000&quot;</td><td>&quot;0xf68d2bfcecd7895bba05a7451dd09a1749026454&quot;</td><td>&quot;0xa1d7352b183988b5406cd88a3b79ab5097e79c3b&quot;</td><td>&quot;smart_margin&quot;</td><td>false</td><td>false</td><td>2</td><td>1.9343e22</td><td>0.0</td><td>1.9280e21</td><td>1.8913e21</td><td>-2.3887e19</td><td>1.6107e19</td><td>9.5552e16</td><td>-3.6676e19</td><td>0.0</td><td>0.0</td><td>22624</td><td>2.1026e19</td><td>2.1026e19</td><td>2.1078e19</td><td>2.1078e19</td><td>&quot;0x0ea09d97b4084d859328ec4bf8ebcf9ecca26f1d-0x850&quot;</td><td>1685503369</td></tr><tr><td>&quot;0xb55211f083eebb3492a3161ac8d15e26fdfeeb4d52ec9cd93954e8db01838508&quot;</td><td>1685161108</td><td>1685505139</td><td>&quot;0x442b69937a0daf9d46439a71567fabe6cb69fbaf&quot;</td><td>&quot;0x4f50000000000000000000000000000000000000000000000000000000000000&quot;</td><td>&quot;0x734f505045525000000000000000000000000000000000000000000000000000&quot;</td><td>&quot;0x54230e4d52e7510295ce359a030abfd1e3b84641&quot;</td><td>&quot;0xc6de73f67f4582c73002573fac5bf4b55f89ea33&quot;</td><td>&quot;smart_margin&quot;</td><td>false</td><td>false</td><td>2</td><td>2.8784e21</td><td>0.0</td><td>4.9666e20</td><td>5.9807e20</td><td>1.1273e20</td><td>9.7234e18</td><td>-5.2170e18</td><td>1.0101e20</td><td>0.0</td><td>0.0</td><td>49791</td><td>1.6129e18</td><td>1.6129e18</td><td>1.4913e18</td><td>1.4913e18</td><td>&quot;0x442b69937a0daf9d46439a71567fabe6cb69fbaf-0x1548&quot;</td><td>1685505139</td></tr><tr><td>&quot;0x7e6092ed740f93846d256929d9a4ee0d201b5241201714cddd2c8020be66c58c&quot;</td><td>1685505259</td><td>null</td><td>&quot;0x549dbdffbd47bd5639f9348ebe82e63e2f9f777a&quot;</td><td>&quot;0x5841550000000000000000000000000000000000000000000000000000000000&quot;</td><td>&quot;0x7358415550455250000000000000000000000000000000000000000000000000&quot;</td><td>&quot;0xc3c31caa7b6eb5761ba3bc130353b05e802b1058&quot;</td><td>&quot;0x6a949e9d3d012d5648e0d00091a3f1313fa70b2e&quot;</td><td>&quot;smart_margin&quot;</td><td>true</td><td>false</td><td>1</td><td>7.8756e21</td><td>4.0217e18</td><td>1.5431e20</td><td>1.5273e20</td><td>0.0</td><td>4.7964e18</td><td>0.0</td><td>-1.5751e18</td><td>0.0</td><td>0.0</td><td>5219</td><td>1.9583e21</td><td>1.9583e21</td><td>1.9583e21</td><td>null</td><td>&quot;0x549dbdffbd47bd5639f9348ebe82e63e2f9f777a-0x28c&quot;</td><td>1685505259</td></tr></tbody></table></div>"
      ],
      "text/plain": [
       "shape: (5, 29)\n",
       "┌──────────┬────────────┬────────────┬───────────┬───┬─────────┬───────────┬───────────┬───────────┐\n",
       "│ lastTxHa ┆ openTimest ┆ closeTimes ┆ market    ┆ … ┆ lastPri ┆ exitPrice ┆ id        ┆ timestamp │\n",
       "│ sh       ┆ amp        ┆ tamp       ┆ ---       ┆   ┆ ce      ┆ ---       ┆ ---       ┆ ---       │\n",
       "│ ---      ┆ ---        ┆ ---        ┆ str       ┆   ┆ ---     ┆ f64       ┆ str       ┆ i64       │\n",
       "│ str      ┆ i64        ┆ i64        ┆           ┆   ┆ f64     ┆           ┆           ┆           │\n",
       "╞══════════╪════════════╪════════════╪═══════════╪═══╪═════════╪═══════════╪═══════════╪═══════════╡\n",
       "│ 0x75890d ┆ 1684896408 ┆ 1685495189 ┆ 0x509072a ┆ … ┆ 1.2315e ┆ 1.2315e18 ┆ 0x509072a ┆ 168549518 │\n",
       "│ e4de52da ┆            ┆            ┆ 5ae4a87ac ┆   ┆ 18      ┆           ┆ 5ae4a87ac ┆ 9         │\n",
       "│ a6e85bb3 ┆            ┆            ┆ 89fc8d64d ┆   ┆         ┆           ┆ 89fc8d64d ┆           │\n",
       "│ a7c22275 ┆            ┆            ┆ 94adcb44b ┆   ┆         ┆           ┆ 94adcb44b ┆           │\n",
       "│ f2445641 ┆            ┆            ┆ d4b88e    ┆   ┆         ┆           ┆ d4b88e-0x ┆           │\n",
       "│ 9d6383ef ┆            ┆            ┆           ┆   ┆         ┆           ┆ d54       ┆           │\n",
       "│ f9af1595 ┆            ┆            ┆           ┆   ┆         ┆           ┆           ┆           │\n",
       "│ 2ed2633a ┆            ┆            ┆           ┆   ┆         ┆           ┆           ┆           │\n",
       "│ 3e       ┆            ┆            ┆           ┆   ┆         ┆           ┆           ┆           │\n",
       "│ 0x1dcbd1 ┆ 1685467484 ┆ 1685498779 ┆ 0xa1ace9c ┆ … ┆ 4.9791e ┆ 4.9791e17 ┆ 0xa1ace9c ┆ 168549877 │\n",
       "│ c5d8dee4 ┆            ┆            ┆ e6862e865 ┆   ┆ 17      ┆           ┆ e6862e865 ┆ 9         │\n",
       "│ d97a9acc ┆            ┆            ┆ 937939005 ┆   ┆         ┆           ┆ 937939005 ┆           │\n",
       "│ 45f95beb ┆            ┆            ┆ b1a6c5ac9 ┆   ┆         ┆           ┆ b1a6c5ac9 ┆           │\n",
       "│ d1c8f320 ┆            ┆            ┆ 38a11f    ┆   ┆         ┆           ┆ 38a11f-0x ┆           │\n",
       "│ 98c9064d ┆            ┆            ┆           ┆   ┆         ┆           ┆ 2d        ┆           │\n",
       "│ 9a1e2d78 ┆            ┆            ┆           ┆   ┆         ┆           ┆           ┆           │\n",
       "│ 72cc0232 ┆            ┆            ┆           ┆   ┆         ┆           ┆           ┆           │\n",
       "│ 22       ┆            ┆            ┆           ┆   ┆         ┆           ┆           ┆           │\n",
       "│ 0xfd8e9d ┆ 1685502375 ┆ 1685503369 ┆ 0x0ea09d9 ┆ … ┆ 2.1078e ┆ 2.1078e19 ┆ 0x0ea09d9 ┆ 168550336 │\n",
       "│ 8bb2b3cd ┆            ┆            ┆ 7b4084d85 ┆   ┆ 19      ┆           ┆ 7b4084d85 ┆ 9         │\n",
       "│ 93ab5e44 ┆            ┆            ┆ 9328ec4bf ┆   ┆         ┆           ┆ 9328ec4bf ┆           │\n",
       "│ d94bd5df ┆            ┆            ┆ 8ebcf9ecc ┆   ┆         ┆           ┆ 8ebcf9ecc ┆           │\n",
       "│ ff6c43b9 ┆            ┆            ┆ a26f1d    ┆   ┆         ┆           ┆ a26f1d-0x ┆           │\n",
       "│ 79e48951 ┆            ┆            ┆           ┆   ┆         ┆           ┆ 850       ┆           │\n",
       "│ f0a7b298 ┆            ┆            ┆           ┆   ┆         ┆           ┆           ┆           │\n",
       "│ 529ff114 ┆            ┆            ┆           ┆   ┆         ┆           ┆           ┆           │\n",
       "│ 5a       ┆            ┆            ┆           ┆   ┆         ┆           ┆           ┆           │\n",
       "│ 0xb55211 ┆ 1685161108 ┆ 1685505139 ┆ 0x442b699 ┆ … ┆ 1.4913e ┆ 1.4913e18 ┆ 0x442b699 ┆ 168550513 │\n",
       "│ f083eebb ┆            ┆            ┆ 37a0daf9d ┆   ┆ 18      ┆           ┆ 37a0daf9d ┆ 9         │\n",
       "│ 3492a316 ┆            ┆            ┆ 46439a715 ┆   ┆         ┆           ┆ 46439a715 ┆           │\n",
       "│ 1ac8d15e ┆            ┆            ┆ 67fabe6cb ┆   ┆         ┆           ┆ 67fabe6cb ┆           │\n",
       "│ 26fdfeeb ┆            ┆            ┆ 69fbaf    ┆   ┆         ┆           ┆ 69fbaf-0x ┆           │\n",
       "│ 4d52ec9c ┆            ┆            ┆           ┆   ┆         ┆           ┆ 1548      ┆           │\n",
       "│ d93954e8 ┆            ┆            ┆           ┆   ┆         ┆           ┆           ┆           │\n",
       "│ db018385 ┆            ┆            ┆           ┆   ┆         ┆           ┆           ┆           │\n",
       "│ 08       ┆            ┆            ┆           ┆   ┆         ┆           ┆           ┆           │\n",
       "│ 0x7e6092 ┆ 1685505259 ┆ null       ┆ 0x549dbdf ┆ … ┆ 1.9583e ┆ null      ┆ 0x549dbdf ┆ 168550525 │\n",
       "│ ed740f93 ┆            ┆            ┆ fbd47bd56 ┆   ┆ 21      ┆           ┆ fbd47bd56 ┆ 9         │\n",
       "│ 846d2569 ┆            ┆            ┆ 39f9348eb ┆   ┆         ┆           ┆ 39f9348eb ┆           │\n",
       "│ 29d9a4ee ┆            ┆            ┆ e82e63e2f ┆   ┆         ┆           ┆ e82e63e2f ┆           │\n",
       "│ 0d201b52 ┆            ┆            ┆ 9f777a    ┆   ┆         ┆           ┆ 9f777a-0x ┆           │\n",
       "│ 41201714 ┆            ┆            ┆           ┆   ┆         ┆           ┆ 28c       ┆           │\n",
       "│ cddd2c80 ┆            ┆            ┆           ┆   ┆         ┆           ┆           ┆           │\n",
       "│ 20be66c5 ┆            ┆            ┆           ┆   ┆         ┆           ┆           ┆           │\n",
       "│ 8c       ┆            ┆            ┆           ┆   ┆         ┆           ┆           ┆           │\n",
       "└──────────┴────────────┴────────────┴───────────┴───┴─────────┴───────────┴───────────┴───────────┘"
      ]
     },
     "execution_count": 10,
     "metadata": {},
     "output_type": "execute_result"
    }
   ],
   "source": [
    "dexes.tail(5)"
   ]
  },
  {
   "cell_type": "code",
   "execution_count": null,
   "metadata": {},
   "outputs": [],
   "source": []
  }
 ],
 "metadata": {
  "kernelspec": {
   "display_name": ".venv",
   "language": "python",
   "name": "python3"
  },
  "language_info": {
   "codemirror_mode": {
    "name": "ipython",
    "version": 3
   },
   "file_extension": ".py",
   "mimetype": "text/x-python",
   "name": "python",
   "nbconvert_exporter": "python",
   "pygments_lexer": "ipython3",
   "version": "3.10.6"
  },
  "orig_nbformat": 4
 },
 "nbformat": 4,
 "nbformat_minor": 2
}
