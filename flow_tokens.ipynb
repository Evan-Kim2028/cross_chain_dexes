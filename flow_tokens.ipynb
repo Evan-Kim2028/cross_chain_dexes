{
 "cells": [
  {
   "cell_type": "code",
   "execution_count": 1,
   "metadata": {},
   "outputs": [
    {
     "data": {
      "text/plain": [
       "polars.config.Config"
      ]
     },
     "execution_count": 1,
     "metadata": {},
     "output_type": "execute_result"
    }
   ],
   "source": [
    "import polars as pl\n",
    "import pandas as pd\n",
    "\n",
    "pl.Config.set_fmt_str_lengths(200)\n",
    "pl.Config.set_fmt_float(\"full\")"
   ]
  },
  {
   "cell_type": "code",
   "execution_count": 2,
   "metadata": {},
   "outputs": [],
   "source": [
    "df_filepaths = 'data/univ3/*.parquet'"
   ]
  },
  {
   "cell_type": "code",
   "execution_count": 12,
   "metadata": {},
   "outputs": [],
   "source": [
    "def get_largest_token_vol(df_filepaths: str, blockchain: str) -> pl.DataFrame:\n",
    "    q = (\n",
    "        pl.scan_parquet(df_filepaths)\n",
    "        .filter(pl.col(\"blockchain\") == blockchain)\n",
    "        .groupby('tokenIn_symbol')\n",
    "        .agg(pl.col(\"amountInUSD\").sum())\n",
    "        .sort(by=\"amountInUSD\", descending=True)\n",
    "    )\n",
    "    df = q.collect()\n",
    "    \n",
    "    return df"
   ]
  },
  {
   "cell_type": "code",
   "execution_count": 13,
   "metadata": {},
   "outputs": [
    {
     "name": "stderr",
     "output_type": "stream",
     "text": [
      "PARTITIONED DS\n"
     ]
    }
   ],
   "source": [
    "sample_df = get_largest_token_vol(df_filepaths)"
   ]
  },
  {
   "cell_type": "code",
   "execution_count": 15,
   "metadata": {},
   "outputs": [
    {
     "data": {
      "text/html": [
       "<div><style>\n",
       ".dataframe > thead > tr > th,\n",
       ".dataframe > tbody > tr > td {\n",
       "  text-align: right;\n",
       "}\n",
       "</style>\n",
       "<small>shape: (5, 2)</small><table border=\"1\" class=\"dataframe\"><thead><tr><th>tokenIn_symbol</th><th>amountInUSD</th></tr><tr><td>str</td><td>f64</td></tr></thead><tbody><tr><td>&quot;WETH&quot;</td><td>46170347673.34306</td></tr><tr><td>&quot;USDC&quot;</td><td>38970690442.35013</td></tr><tr><td>&quot;USDT&quot;</td><td>16821957061.165615</td></tr><tr><td>&quot;ARB&quot;</td><td>4482087376.719337</td></tr><tr><td>&quot;DAI&quot;</td><td>2641947714.462758</td></tr></tbody></table></div>"
      ],
      "text/plain": [
       "shape: (5, 2)\n",
       "┌────────────────┬────────────────────┐\n",
       "│ tokenIn_symbol ┆ amountInUSD        │\n",
       "│ ---            ┆ ---                │\n",
       "│ str            ┆ f64                │\n",
       "╞════════════════╪════════════════════╡\n",
       "│ WETH           ┆ 46170347673.34306  │\n",
       "│ USDC           ┆ 38970690442.35013  │\n",
       "│ USDT           ┆ 16821957061.165615 │\n",
       "│ ARB            ┆ 4482087376.719337  │\n",
       "│ DAI            ┆ 2641947714.462758  │\n",
       "└────────────────┴────────────────────┘"
      ]
     },
     "execution_count": 15,
     "metadata": {},
     "output_type": "execute_result"
    }
   ],
   "source": [
    "sample_df.head(5)"
   ]
  },
  {
   "attachments": {},
   "cell_type": "markdown",
   "metadata": {},
   "source": [
    "### Token Filtering"
   ]
  },
  {
   "cell_type": "code",
   "execution_count": 3,
   "metadata": {},
   "outputs": [],
   "source": [
    "def filter_tokens(token_symbol: str, df_filepaths: str) -> pl.DataFrame:\n",
    "    \"\"\"\n",
    "    Uses polars streaming API to filter for token symbol in tokenIn or tokenOut without loading entire dataset into memory.\n",
    "    \"\"\"\n",
    "    q_in = (\n",
    "    pl.scan_parquet(df_filepaths)\n",
    "    .filter(pl.col('tokenIn_symbol') == token_symbol)\n",
    "    )\n",
    "\n",
    "    q_out = (\n",
    "    pl.scan_parquet(df_filepaths)\n",
    "    .filter(pl.col('tokenOut_symbol') == token_symbol)\n",
    "    )\n",
    "\n",
    "    df = pl.concat([q_in, q_out]).collect(streaming=True)\n",
    "    return df\n"
   ]
  },
  {
   "cell_type": "code",
   "execution_count": 4,
   "metadata": {},
   "outputs": [],
   "source": [
    "weth_filter = filter_tokens('WETH', df_filepaths)\n",
    "\n",
    "# usdc_filter = filter_tokens('USDC', data)\n",
    "# usdt_filter = filter_tokens('USDT', data)"
   ]
  },
  {
   "cell_type": "code",
   "execution_count": 5,
   "metadata": {},
   "outputs": [],
   "source": [
    "# sort weth_filter\n",
    "weth_filter = weth_filter.sort('timestamp', descending=False)"
   ]
  },
  {
   "cell_type": "code",
   "execution_count": 6,
   "metadata": {},
   "outputs": [
    {
     "name": "stdout",
     "output_type": "stream",
     "text": [
      "WETH has 16,600,649 transactions\n"
     ]
    }
   ],
   "source": [
    "print(f'WETH has {format(weth_filter.shape[0], \",\")} transactions')\n",
    "# print(f'Out of the {format(data.shape[0], \",\")} total transactions, WETH has {format(weth_filter.shape[0], \",\")} transactions, USDC has {format(usdc_filter.shape[0], \",\")} transactions, and USDT has {format(usdt_filter.shape[0], \",\")} transactions.')"
   ]
  },
  {
   "attachments": {},
   "cell_type": "markdown",
   "metadata": {},
   "source": [
    "### Aggregate Flows"
   ]
  },
  {
   "cell_type": "code",
   "execution_count": 7,
   "metadata": {},
   "outputs": [],
   "source": [
    "def monthly_blockchain_vol(df: pl.DataFrame, blockchain: list[str]) -> pl.DataFrame:\n",
    "    '''\n",
    "    Returns weekly volume for each blockchain in USD\n",
    "    '''\n",
    "\n",
    "    blockchain_df = df.filter(pl.col('blockchain') == blockchain)\n",
    "\n",
    "    # Hourly groupby with Polars\n",
    "    blockchain_df = blockchain_df.groupby_dynamic(\"timestamp\",every='1mo').agg(pl.col('amountInUSD').sum())\n",
    "\n",
    "    # round timestamp values to nearest day granularity\n",
    "    blockchain_df = blockchain_df.select(\n",
    "        pl.col(\"timestamp\").dt.truncate(\"1d\"),\n",
    "        pl.col(\"amountInUSD\").alias(\"weekly_vol\")\n",
    "        )\n",
    "\n",
    "    return blockchain_df"
   ]
  },
  {
   "cell_type": "code",
   "execution_count": 8,
   "metadata": {},
   "outputs": [],
   "source": [
    "weth_eth_data = monthly_blockchain_vol(weth_filter, 'ethereum')\n",
    "weth_arb_data = monthly_blockchain_vol(weth_filter, 'arbitrum')\n",
    "weth_opt_data = monthly_blockchain_vol(weth_filter, 'optimism')\n",
    "weth_poly_data = monthly_blockchain_vol(weth_filter, 'polygon')\n",
    "weth_bsc_data = monthly_blockchain_vol(weth_filter, 'bsc')"
   ]
  },
  {
   "cell_type": "code",
   "execution_count": 9,
   "metadata": {},
   "outputs": [],
   "source": [
    "# rename columns\n",
    "eth_data = weth_eth_data.select(\n",
    "    pl.col('timestamp').alias('timestamp'),\n",
    "    pl.col('weekly_vol').alias('weth vol (eth)')\n",
    ")\n",
    "\n",
    "arb_data = weth_arb_data.select(\n",
    "    pl.col('timestamp').alias('timestamp'),\n",
    "    pl.col('weekly_vol').alias('weth vol (arb)')\n",
    ")\n",
    "\n",
    "opt_data = weth_opt_data.select(\n",
    "    pl.col('timestamp').alias('timestamp'),\n",
    "    pl.col('weekly_vol').alias('weth vol (opt)')\n",
    ")\n",
    "\n",
    "poly_data = weth_poly_data.select(\n",
    "    pl.col('timestamp').alias('timestamp'),\n",
    "    pl.col('weekly_vol').alias('weth vol (poly)')\n",
    ")\n",
    "\n",
    "bsc_data = weth_bsc_data.select(\n",
    "    pl.col('timestamp').alias('timestamp'),\n",
    "    pl.col('weekly_vol').alias('weth vol (bsc)')\n",
    ")"
   ]
  },
  {
   "cell_type": "code",
   "execution_count": 10,
   "metadata": {},
   "outputs": [],
   "source": [
    "# merge dataframes\n",
    "monthly_vol = eth_data.join(arb_data, on='timestamp').join(opt_data, on='timestamp').join(poly_data, on='timestamp').join(bsc_data, on='timestamp', how='outer')"
   ]
  },
  {
   "cell_type": "code",
   "execution_count": 11,
   "metadata": {},
   "outputs": [],
   "source": [
    "# convert null to 0 \n",
    "monthly_vol = monthly_vol.fill_null(0)"
   ]
  },
  {
   "cell_type": "code",
   "execution_count": 12,
   "metadata": {},
   "outputs": [
    {
     "data": {
      "text/html": [
       "<div><style>\n",
       ".dataframe > thead > tr > th,\n",
       ".dataframe > tbody > tr > td {\n",
       "  text-align: right;\n",
       "}\n",
       "</style>\n",
       "<small>shape: (3, 6)</small><table border=\"1\" class=\"dataframe\"><thead><tr><th>timestamp</th><th>weth vol (eth)</th><th>weth vol (arb)</th><th>weth vol (opt)</th><th>weth vol (poly)</th><th>weth vol (bsc)</th></tr><tr><td>datetime[μs]</td><td>f64</td><td>f64</td><td>f64</td><td>f64</td><td>f64</td></tr></thead><tbody><tr><td>2023-03-01 00:00:00</td><td>32692194656.99896</td><td>8974768427.119448</td><td>1164039407.0336637</td><td>1421557349.5173063</td><td>0</td></tr><tr><td>2023-04-01 00:00:00</td><td>14375473416.937578</td><td>9476490112.651398</td><td>575028774.9492655</td><td>706893515.5454987</td><td>43853.90915066425</td></tr><tr><td>2023-05-01 00:00:00</td><td>14231388176.409418</td><td>5493003064.27326</td><td>427460080.8152473</td><td>508785759.14101815</td><td>57487.10881893993</td></tr></tbody></table></div>"
      ],
      "text/plain": [
       "shape: (3, 6)\n",
       "┌────────────────┬────────────────┬────────────────┬───────────────┬───────────────┬───────────────┐\n",
       "│ timestamp      ┆ weth vol (eth) ┆ weth vol (arb) ┆ weth vol      ┆ weth vol      ┆ weth vol      │\n",
       "│ ---            ┆ ---            ┆ ---            ┆ (opt)         ┆ (poly)        ┆ (bsc)         │\n",
       "│ datetime[μs]   ┆ f64            ┆ f64            ┆ ---           ┆ ---           ┆ ---           │\n",
       "│                ┆                ┆                ┆ f64           ┆ f64           ┆ f64           │\n",
       "╞════════════════╪════════════════╪════════════════╪═══════════════╪═══════════════╪═══════════════╡\n",
       "│ 2023-03-01     ┆ 32692194656.99 ┆ 8974768427.119 ┆ 1164039407.03 ┆ 1421557349.51 ┆ 0             │\n",
       "│ 00:00:00       ┆ 896            ┆ 448            ┆ 36637         ┆ 73063         ┆               │\n",
       "│ 2023-04-01     ┆ 14375473416.93 ┆ 9476490112.651 ┆ 575028774.949 ┆ 706893515.545 ┆ 43853.9091506 │\n",
       "│ 00:00:00       ┆ 7578           ┆ 398            ┆ 2655          ┆ 4987          ┆ 6425          │\n",
       "│ 2023-05-01     ┆ 14231388176.40 ┆ 5493003064.273 ┆ 427460080.815 ┆ 508785759.141 ┆ 57487.1088189 │\n",
       "│ 00:00:00       ┆ 9418           ┆ 26             ┆ 2473          ┆ 01815         ┆ 3993          │\n",
       "└────────────────┴────────────────┴────────────────┴───────────────┴───────────────┴───────────────┘"
      ]
     },
     "execution_count": 12,
     "metadata": {},
     "output_type": "execute_result"
    }
   ],
   "source": [
    "monthly_vol"
   ]
  },
  {
   "cell_type": "code",
   "execution_count": 13,
   "metadata": {},
   "outputs": [
    {
     "name": "stdout",
     "output_type": "stream",
     "text": [
      "\n",
      " Month: 2023-03-01 00:00:00\n",
      " eth vol: $32,692,194,657\n",
      " arb vol: $8,974,768,427\n",
      " bsc vol: $0\n",
      " poly vol: $1,421,557,350\n",
      " opt vol: $1,164,039,407\n",
      "\n",
      " Month: 2023-04-01 00:00:00\n",
      " eth vol: $14,375,473,417\n",
      " arb vol: $9,476,490,113\n",
      " bsc vol: $43,854\n",
      " poly vol: $706,893,516\n",
      " opt vol: $575,028,775\n",
      "\n",
      " Month: 2023-05-01 00:00:00\n",
      " eth vol: $14,231,388,176\n",
      " arb vol: $5,493,003,064\n",
      " bsc vol: $57,487\n",
      " poly vol: $508,785,759\n",
      " opt vol: $427,460,081\n"
     ]
    }
   ],
   "source": [
    "# print out each row formatted with commas for blockchain_stats\n",
    "for row in monthly_vol.rows():\n",
    "    print(f\"\\n Month: {row[0]}\\n eth vol: ${row[1]:,.0f}\\n arb vol: ${row[2]:,.0f}\\n bsc vol: ${row[5]:,.0f}\\n poly vol: ${row[4]:,.0f}\\n opt vol: ${row[3]:,.0f}\")"
   ]
  },
  {
   "cell_type": "code",
   "execution_count": 14,
   "metadata": {},
   "outputs": [],
   "source": [
    "pd_monthly_chart = monthly_vol.to_pandas()\n",
    "# convert timestamp to datetime so it just shows the date, not the time.\n",
    "pd_monthly_chart['timestamp'] = pd.to_datetime(pd_monthly_chart['timestamp']).dt.date"
   ]
  },
  {
   "cell_type": "code",
   "execution_count": 15,
   "metadata": {},
   "outputs": [
    {
     "data": {
      "image/png": "[encoded data removed]",
      "text/plain": [
       "<Figure size 640x480 with 1 Axes>"
      ]
     },
     "metadata": {},
     "output_type": "display_data"
    }
   ],
   "source": [
    "import matplotlib.pyplot as plt\n",
    "import matplotlib.ticker as ticker\n",
    "\n",
    "# Create the bar chart\n",
    "ax = pd_monthly_chart.plot.bar(x='timestamp', y=['weth vol (eth)', 'weth vol (arb)', 'weth vol (bsc)', 'weth vol (poly)', 'weth vol (opt)'], stacked=True, title='WETH Monthly Flows by Blockchain')\n",
    "\n",
    "# Format the y-axis tick labels\n",
    "def format_y_ticks(value, pos):\n",
    "    if value >= 1e9:\n",
    "        return f'${value / 1e9:.1f}B'\n",
    "    elif value >= 1e6:\n",
    "        return f'${value / 1e6:.1f}M'\n",
    "    elif value >= 1e3:\n",
    "        return f'${value / 1e3:.1f}K'\n",
    "    else:\n",
    "        return f'${value:.0f}'\n",
    "\n",
    "# Apply the custom formatting function to the y-axis\n",
    "ax.yaxis.set_major_formatter(ticker.FuncFormatter(format_y_ticks))\n",
    "\n",
    "# Display the plot\n",
    "plt.show()"
   ]
  },
  {
   "cell_type": "code",
   "execution_count": null,
   "metadata": {},
   "outputs": [],
   "source": []
  }
 ],
 "metadata": {
  "kernelspec": {
   "display_name": ".venv",
   "language": "python",
   "name": "python3"
  },
  "language_info": {
   "codemirror_mode": {
    "name": "ipython",
    "version": 3
   },
   "file_extension": ".py",
   "mimetype": "text/x-python",
   "name": "python",
   "nbconvert_exporter": "python",
   "pygments_lexer": "ipython3",
   "version": "3.10.6"
  },
  "orig_nbformat": 4
 },
 "nbformat": 4,
 "nbformat_minor": 2
}
