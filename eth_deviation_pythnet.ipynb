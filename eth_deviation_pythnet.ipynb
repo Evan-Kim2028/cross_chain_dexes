{
 "cells": [
  {
   "cell_type": "code",
   "execution_count": 1,
   "metadata": {},
   "outputs": [
    {
     "data": {
      "text/plain": [
       "polars.config.Config"
      ]
     },
     "execution_count": 1,
     "metadata": {},
     "output_type": "execute_result"
    }
   ],
   "source": [
    "import polars as pl\n",
    "from preprocess.polars_helpers import *\n",
    "\n",
    "pl.Config.set_fmt_str_lengths(200)\n",
    "pl.Config.set_fmt_float(\"full\")"
   ]
  },
  {
   "cell_type": "code",
   "execution_count": 2,
   "metadata": {},
   "outputs": [],
   "source": [
    "df_filepaths = 'data/univ3/*.parquet'"
   ]
  },
  {
   "cell_type": "code",
   "execution_count": 3,
   "metadata": {},
   "outputs": [],
   "source": [
    "swap_df_usdc = filter_swap_pairs(df_filepaths, 'WETH', 18, 'USDC', 6)\n",
    "swap_df_usdt = filter_swap_pairs(df_filepaths, 'WETH', 18, 'USDT', 6)\n",
    "# binance has pegged tokens and they both have 18 decimals\n",
    "swap_df_eth = filter_swap_pairs(df_filepaths, 'ETH', 18, 'USDC', 18)"
   ]
  },
  {
   "cell_type": "code",
   "execution_count": 4,
   "metadata": {},
   "outputs": [],
   "source": [
    "swap_df = pl.concat([swap_df_usdc, swap_df_usdt, swap_df_eth])"
   ]
  },
  {
   "cell_type": "code",
   "execution_count": 5,
   "metadata": {},
   "outputs": [],
   "source": [
    "# filter out outlier values that are too large or too small. We get weird values probably due precision rounding errors because values are stored as float64s\n",
    "filter_swap_df = swap_df.filter((pl.col(\"executionPrice\") < 2500) & (pl.col(\"executionPrice\") > 1000))\n",
    "\n",
    "# second filter for transactions larger than $1 USD\n",
    "filter_swap_df = filter_swap_df.filter((pl.col(\"amountInUSD\") > 1) & (pl.col(\"amountOutUSD\") > 1))"
   ]
  },
  {
   "cell_type": "code",
   "execution_count": 6,
   "metadata": {},
   "outputs": [
    {
     "data": {
      "text/plain": [
       "(6431715, 14)"
      ]
     },
     "execution_count": 6,
     "metadata": {},
     "output_type": "execute_result"
    }
   ],
   "source": [
    "filter_swap_df.shape"
   ]
  },
  {
   "cell_type": "code",
   "execution_count": 7,
   "metadata": {},
   "outputs": [],
   "source": [
    "spot_df = filter_swap_df.select([\n",
    "    'timestamp',\n",
    "    pl.col('executionPrice').alias('price'),\n",
    "    'blockchain'\n",
    "])"
   ]
  },
  {
   "cell_type": "code",
   "execution_count": 8,
   "metadata": {},
   "outputs": [],
   "source": [
    "# group by timestamp and blockchain and average 'price' over same timestamps\n",
    "spot_df = spot_df.groupby(['timestamp', 'blockchain']).mean()"
   ]
  },
  {
   "attachments": {},
   "cell_type": "markdown",
   "metadata": {},
   "source": [
    "### Oracle Prices\n"
   ]
  },
  {
   "cell_type": "code",
   "execution_count": 9,
   "metadata": {},
   "outputs": [],
   "source": [
    "chain_df = pl.read_parquet('data/price/chainlink_eth_price.parquet')\n",
    "pyth_df = pl.read_csv('data/price/pyth_eth_prices.csv')"
   ]
  },
  {
   "cell_type": "code",
   "execution_count": 10,
   "metadata": {},
   "outputs": [],
   "source": [
    "chain_df = chain_df.select([\n",
    "    'timestamp',\n",
    "    'price',\n",
    "    'blockchain'\n",
    "])\n",
    "\n",
    "# select a subset of pyth_df columns\n",
    "pyth_df = pyth_df.select([\n",
    "    'time',\n",
    "    'price',\n",
    "    'cluster'\n",
    "])"
   ]
  },
  {
   "cell_type": "code",
   "execution_count": 11,
   "metadata": {},
   "outputs": [],
   "source": [
    "# rename pyth columns\n",
    "pyth_df = pyth_df.rename({\"time\": \"timestamp\", \"cluster\": \"blockchain\"})\n",
    "\n",
    "# convert timestamp to datetime\n",
    "pyth_df = pyth_df.with_columns(\n",
    "   pl.col(\"timestamp\").str.to_datetime(\"%Y-%m-%d %H:%M:%S\")\n",
    ")"
   ]
  },
  {
   "cell_type": "code",
   "execution_count": 54,
   "metadata": {},
   "outputs": [
    {
     "name": "stdout",
     "output_type": "stream",
     "text": [
      "chainlink: (4869, 3), pythnet: (1011990, 3)\n"
     ]
    }
   ],
   "source": [
    "print(f'chainlink: {chain_df.shape}, pythnet: {pyth_df.shape}')"
   ]
  },
  {
   "attachments": {},
   "cell_type": "markdown",
   "metadata": {},
   "source": [
    "### Create Price Oracle Index"
   ]
  },
  {
   "cell_type": "code",
   "execution_count": 12,
   "metadata": {},
   "outputs": [],
   "source": [
    "# get min timestamp value for chain_df\n",
    "min_timestamp = chain_df.select(pl.min(\"timestamp\")).min().item()\n",
    "# get max timestamp value for chain_df\n",
    "max_timestamp = chain_df.select(pl.max(\"timestamp\")).max().item()"
   ]
  },
  {
   "cell_type": "code",
   "execution_count": 13,
   "metadata": {},
   "outputs": [
    {
     "name": "stdout",
     "output_type": "stream",
     "text": [
      "2023-03-01 05:22:47 2023-05-30 03:55:35\n"
     ]
    }
   ],
   "source": [
    "print(min_timestamp, max_timestamp)"
   ]
  },
  {
   "cell_type": "code",
   "execution_count": 14,
   "metadata": {},
   "outputs": [],
   "source": [
    "# create an empty polars series with the timestamp range\n",
    "price_index = pl.date_range(min_timestamp, max_timestamp, interval='1s', eager=True).alias(\"timestamp\")\n",
    "\n",
    "# change price_index into a dataframe\n",
    "price_index = price_index.to_frame(\"timestamp\")"
   ]
  },
  {
   "cell_type": "code",
   "execution_count": 28,
   "metadata": {},
   "outputs": [],
   "source": [
    "# left join chain_df\n",
    "chain_reindexed = price_index.join(chain_df, on='timestamp', how='left')\n",
    "# left join python_df\n",
    "pyth_reindexed = price_index.join(pyth_df, on='timestamp', how='left')\n",
    "# deal with duplicate timestamps by taking the mean\n",
    "pyth_reindexed = pyth_reindexed.groupby(['timestamp', 'blockchain']).mean()\n",
    "# reorder columns\n",
    "pyth_reindexed = pyth_reindexed.select([\n",
    "    'timestamp',\n",
    "    'price',\n",
    "    'blockchain'\n",
    "])\n",
    "\n",
    "# sort pyth_reindexed\n",
    "pyth_reindexed = pyth_reindexed.sort('timestamp', descending=False)"
   ]
  },
  {
   "cell_type": "code",
   "execution_count": 31,
   "metadata": {},
   "outputs": [],
   "source": [
    "# get unique list of spot_df blockchains\n",
    "blockchain_list = spot_df.select(pl.col('blockchain')).unique().to_series().to_list()"
   ]
  },
  {
   "cell_type": "code",
   "execution_count": 32,
   "metadata": {},
   "outputs": [],
   "source": [
    "spot_dataframes = []"
   ]
  },
  {
   "cell_type": "code",
   "execution_count": 33,
   "metadata": {},
   "outputs": [],
   "source": [
    "for blockchain in blockchain_list:\n",
    "    # filter by blockchain\n",
    "    spot_blockchain_df = spot_df.filter(pl.col('blockchain') == blockchain)\n",
    "    # left join spot_blockchain_df\n",
    "    spot_reindexed = price_index.join(spot_blockchain_df, on='timestamp', how='left')\n",
    "    # fill in missing values with previous value\n",
    "    spot_reindexed = spot_reindexed.select(pl.all().forward_fill())\n",
    "    # reorder columns\n",
    "    spot_reindexed = spot_reindexed.select(['timestamp', 'price', 'blockchain'])\n",
    "    spot_dataframes.append(spot_reindexed)"
   ]
  },
  {
   "cell_type": "code",
   "execution_count": 34,
   "metadata": {},
   "outputs": [],
   "source": [
    "# forward fill values\n",
    "chain_reindexed = chain_reindexed.select(pl.all().forward_fill())\n",
    "pyth_reindexed = pyth_reindexed.select(pl.all().forward_fill())"
   ]
  },
  {
   "cell_type": "code",
   "execution_count": 35,
   "metadata": {},
   "outputs": [],
   "source": [
    "# concat together\n",
    "final_price_df = pl.concat([chain_reindexed, pyth_reindexed, *spot_dataframes])"
   ]
  },
  {
   "cell_type": "code",
   "execution_count": 21,
   "metadata": {},
   "outputs": [],
   "source": [
    "# get values where blockchain= pythnet\n",
    "# final_price_df.filter(pl.col('blockchain') == 'pythnet')"
   ]
  },
  {
   "cell_type": "code",
   "execution_count": 36,
   "metadata": {},
   "outputs": [],
   "source": [
    "pivot_df = final_price_df.pivot(\n",
    "    index=\"timestamp\",\n",
    "    columns=\"blockchain\",\n",
    "    values=\"price\",\n",
    "    aggregate_function=pl.col('price').mean()\n",
    ")"
   ]
  },
  {
   "cell_type": "code",
   "execution_count": 40,
   "metadata": {},
   "outputs": [],
   "source": [
    "# drop null column\n",
    "pivot_df = pivot_df.drop(\"null\")"
   ]
  },
  {
   "attachments": {},
   "cell_type": "markdown",
   "metadata": {},
   "source": [
    "### Plotting"
   ]
  },
  {
   "cell_type": "code",
   "execution_count": 43,
   "metadata": {},
   "outputs": [],
   "source": [
    "# convert to pandas\n",
    "pivot_df_pandas = pivot_df.to_pandas()"
   ]
  },
  {
   "cell_type": "code",
   "execution_count": 44,
   "metadata": {},
   "outputs": [
    {
     "data": {
      "text/html": [
       "<div>\n",
       "<style scoped>\n",
       "    .dataframe tbody tr th:only-of-type {\n",
       "        vertical-align: middle;\n",
       "    }\n",
       "\n",
       "    .dataframe tbody tr th {\n",
       "        vertical-align: top;\n",
       "    }\n",
       "\n",
       "    .dataframe thead th {\n",
       "        text-align: right;\n",
       "    }\n",
       "</style>\n",
       "<table border=\"1\" class=\"dataframe\">\n",
       "  <thead>\n",
       "    <tr style=\"text-align: right;\">\n",
       "      <th></th>\n",
       "      <th>timestamp</th>\n",
       "      <th>chainlink</th>\n",
       "      <th>pythnet</th>\n",
       "      <th>polygon</th>\n",
       "      <th>bsc</th>\n",
       "      <th>arbitrum</th>\n",
       "      <th>ethereum</th>\n",
       "      <th>optimism</th>\n",
       "    </tr>\n",
       "  </thead>\n",
       "  <tbody>\n",
       "    <tr>\n",
       "      <th>0</th>\n",
       "      <td>2023-03-01 05:22:47</td>\n",
       "      <td>1650.407264</td>\n",
       "      <td>NaN</td>\n",
       "      <td>NaN</td>\n",
       "      <td>NaN</td>\n",
       "      <td>NaN</td>\n",
       "      <td>1650.803389</td>\n",
       "      <td>NaN</td>\n",
       "    </tr>\n",
       "    <tr>\n",
       "      <th>1</th>\n",
       "      <td>2023-03-01 05:22:48</td>\n",
       "      <td>1650.407264</td>\n",
       "      <td>NaN</td>\n",
       "      <td>NaN</td>\n",
       "      <td>NaN</td>\n",
       "      <td>NaN</td>\n",
       "      <td>1650.803389</td>\n",
       "      <td>NaN</td>\n",
       "    </tr>\n",
       "    <tr>\n",
       "      <th>2</th>\n",
       "      <td>2023-03-01 05:22:49</td>\n",
       "      <td>1650.407264</td>\n",
       "      <td>NaN</td>\n",
       "      <td>NaN</td>\n",
       "      <td>NaN</td>\n",
       "      <td>NaN</td>\n",
       "      <td>1650.803389</td>\n",
       "      <td>NaN</td>\n",
       "    </tr>\n",
       "    <tr>\n",
       "      <th>3</th>\n",
       "      <td>2023-03-01 05:22:50</td>\n",
       "      <td>1650.407264</td>\n",
       "      <td>NaN</td>\n",
       "      <td>NaN</td>\n",
       "      <td>NaN</td>\n",
       "      <td>NaN</td>\n",
       "      <td>1650.803389</td>\n",
       "      <td>NaN</td>\n",
       "    </tr>\n",
       "    <tr>\n",
       "      <th>4</th>\n",
       "      <td>2023-03-01 05:22:51</td>\n",
       "      <td>1650.407264</td>\n",
       "      <td>NaN</td>\n",
       "      <td>NaN</td>\n",
       "      <td>NaN</td>\n",
       "      <td>NaN</td>\n",
       "      <td>1650.803389</td>\n",
       "      <td>NaN</td>\n",
       "    </tr>\n",
       "    <tr>\n",
       "      <th>5</th>\n",
       "      <td>2023-03-01 05:22:52</td>\n",
       "      <td>1650.407264</td>\n",
       "      <td>NaN</td>\n",
       "      <td>NaN</td>\n",
       "      <td>NaN</td>\n",
       "      <td>NaN</td>\n",
       "      <td>1650.803389</td>\n",
       "      <td>NaN</td>\n",
       "    </tr>\n",
       "    <tr>\n",
       "      <th>6</th>\n",
       "      <td>2023-03-01 05:22:53</td>\n",
       "      <td>1650.407264</td>\n",
       "      <td>NaN</td>\n",
       "      <td>1651.967148</td>\n",
       "      <td>NaN</td>\n",
       "      <td>1650.155954</td>\n",
       "      <td>1650.803389</td>\n",
       "      <td>NaN</td>\n",
       "    </tr>\n",
       "    <tr>\n",
       "      <th>7</th>\n",
       "      <td>2023-03-01 05:22:54</td>\n",
       "      <td>1650.407264</td>\n",
       "      <td>NaN</td>\n",
       "      <td>1651.967148</td>\n",
       "      <td>NaN</td>\n",
       "      <td>1650.155954</td>\n",
       "      <td>1650.803389</td>\n",
       "      <td>NaN</td>\n",
       "    </tr>\n",
       "    <tr>\n",
       "      <th>8</th>\n",
       "      <td>2023-03-01 05:22:55</td>\n",
       "      <td>1650.407264</td>\n",
       "      <td>NaN</td>\n",
       "      <td>1651.967148</td>\n",
       "      <td>NaN</td>\n",
       "      <td>1650.155954</td>\n",
       "      <td>1650.803389</td>\n",
       "      <td>NaN</td>\n",
       "    </tr>\n",
       "    <tr>\n",
       "      <th>9</th>\n",
       "      <td>2023-03-01 05:22:56</td>\n",
       "      <td>1650.407264</td>\n",
       "      <td>NaN</td>\n",
       "      <td>1651.967148</td>\n",
       "      <td>NaN</td>\n",
       "      <td>1650.155954</td>\n",
       "      <td>1650.803389</td>\n",
       "      <td>NaN</td>\n",
       "    </tr>\n",
       "    <tr>\n",
       "      <th>10</th>\n",
       "      <td>2023-03-01 05:22:57</td>\n",
       "      <td>1650.407264</td>\n",
       "      <td>NaN</td>\n",
       "      <td>1651.967148</td>\n",
       "      <td>NaN</td>\n",
       "      <td>1650.155954</td>\n",
       "      <td>1650.803389</td>\n",
       "      <td>1650.007191</td>\n",
       "    </tr>\n",
       "    <tr>\n",
       "      <th>11</th>\n",
       "      <td>2023-03-01 05:22:58</td>\n",
       "      <td>1650.407264</td>\n",
       "      <td>NaN</td>\n",
       "      <td>1651.967148</td>\n",
       "      <td>NaN</td>\n",
       "      <td>1650.155954</td>\n",
       "      <td>1650.803389</td>\n",
       "      <td>1650.007191</td>\n",
       "    </tr>\n",
       "    <tr>\n",
       "      <th>12</th>\n",
       "      <td>2023-03-01 05:22:59</td>\n",
       "      <td>1650.407264</td>\n",
       "      <td>NaN</td>\n",
       "      <td>1651.967148</td>\n",
       "      <td>NaN</td>\n",
       "      <td>1650.155954</td>\n",
       "      <td>1650.803389</td>\n",
       "      <td>1650.007191</td>\n",
       "    </tr>\n",
       "    <tr>\n",
       "      <th>13</th>\n",
       "      <td>2023-03-01 05:23:00</td>\n",
       "      <td>1650.407264</td>\n",
       "      <td>NaN</td>\n",
       "      <td>1651.967148</td>\n",
       "      <td>NaN</td>\n",
       "      <td>1650.155954</td>\n",
       "      <td>1650.803389</td>\n",
       "      <td>1650.007191</td>\n",
       "    </tr>\n",
       "    <tr>\n",
       "      <th>14</th>\n",
       "      <td>2023-03-01 05:23:01</td>\n",
       "      <td>1650.407264</td>\n",
       "      <td>NaN</td>\n",
       "      <td>1651.967148</td>\n",
       "      <td>NaN</td>\n",
       "      <td>1650.022765</td>\n",
       "      <td>1650.803389</td>\n",
       "      <td>1650.007191</td>\n",
       "    </tr>\n",
       "    <tr>\n",
       "      <th>15</th>\n",
       "      <td>2023-03-01 05:23:02</td>\n",
       "      <td>1650.407264</td>\n",
       "      <td>NaN</td>\n",
       "      <td>1651.967148</td>\n",
       "      <td>NaN</td>\n",
       "      <td>1650.022765</td>\n",
       "      <td>1650.803389</td>\n",
       "      <td>1650.007191</td>\n",
       "    </tr>\n",
       "    <tr>\n",
       "      <th>16</th>\n",
       "      <td>2023-03-01 05:23:03</td>\n",
       "      <td>1650.407264</td>\n",
       "      <td>NaN</td>\n",
       "      <td>1650.314240</td>\n",
       "      <td>NaN</td>\n",
       "      <td>1649.943417</td>\n",
       "      <td>1650.803389</td>\n",
       "      <td>1650.007191</td>\n",
       "    </tr>\n",
       "    <tr>\n",
       "      <th>17</th>\n",
       "      <td>2023-03-01 05:23:04</td>\n",
       "      <td>1650.407264</td>\n",
       "      <td>1649.766413</td>\n",
       "      <td>1650.314240</td>\n",
       "      <td>NaN</td>\n",
       "      <td>1649.943417</td>\n",
       "      <td>1650.803389</td>\n",
       "      <td>1650.007191</td>\n",
       "    </tr>\n",
       "    <tr>\n",
       "      <th>18</th>\n",
       "      <td>2023-03-01 05:23:05</td>\n",
       "      <td>1650.407264</td>\n",
       "      <td>1649.766413</td>\n",
       "      <td>1650.314240</td>\n",
       "      <td>NaN</td>\n",
       "      <td>1649.943417</td>\n",
       "      <td>1650.803389</td>\n",
       "      <td>1650.007191</td>\n",
       "    </tr>\n",
       "    <tr>\n",
       "      <th>19</th>\n",
       "      <td>2023-03-01 05:23:06</td>\n",
       "      <td>1650.407264</td>\n",
       "      <td>1649.766413</td>\n",
       "      <td>1650.314240</td>\n",
       "      <td>NaN</td>\n",
       "      <td>1649.943417</td>\n",
       "      <td>1650.803389</td>\n",
       "      <td>1650.007191</td>\n",
       "    </tr>\n",
       "    <tr>\n",
       "      <th>20</th>\n",
       "      <td>2023-03-01 05:23:07</td>\n",
       "      <td>1650.407264</td>\n",
       "      <td>1649.766413</td>\n",
       "      <td>1650.209123</td>\n",
       "      <td>NaN</td>\n",
       "      <td>1649.943417</td>\n",
       "      <td>1650.803389</td>\n",
       "      <td>1650.007191</td>\n",
       "    </tr>\n",
       "    <tr>\n",
       "      <th>21</th>\n",
       "      <td>2023-03-01 05:23:08</td>\n",
       "      <td>1650.407264</td>\n",
       "      <td>1649.898750</td>\n",
       "      <td>1650.209123</td>\n",
       "      <td>NaN</td>\n",
       "      <td>1649.943417</td>\n",
       "      <td>1650.803389</td>\n",
       "      <td>1650.007191</td>\n",
       "    </tr>\n",
       "    <tr>\n",
       "      <th>22</th>\n",
       "      <td>2023-03-01 05:23:09</td>\n",
       "      <td>1650.407264</td>\n",
       "      <td>1649.898750</td>\n",
       "      <td>1650.209123</td>\n",
       "      <td>NaN</td>\n",
       "      <td>1649.943417</td>\n",
       "      <td>1650.803389</td>\n",
       "      <td>1650.007191</td>\n",
       "    </tr>\n",
       "    <tr>\n",
       "      <th>23</th>\n",
       "      <td>2023-03-01 05:23:10</td>\n",
       "      <td>1650.407264</td>\n",
       "      <td>1649.898750</td>\n",
       "      <td>1650.209123</td>\n",
       "      <td>NaN</td>\n",
       "      <td>1649.943417</td>\n",
       "      <td>1650.803389</td>\n",
       "      <td>1650.007191</td>\n",
       "    </tr>\n",
       "    <tr>\n",
       "      <th>24</th>\n",
       "      <td>2023-03-01 05:23:11</td>\n",
       "      <td>1650.407264</td>\n",
       "      <td>1649.898750</td>\n",
       "      <td>1650.209123</td>\n",
       "      <td>NaN</td>\n",
       "      <td>1650.546566</td>\n",
       "      <td>1649.948653</td>\n",
       "      <td>1650.007191</td>\n",
       "    </tr>\n",
       "  </tbody>\n",
       "</table>\n",
       "</div>"
      ],
      "text/plain": [
       "             timestamp    chainlink      pythnet      polygon  bsc  \\\n",
       "0  2023-03-01 05:22:47  1650.407264          NaN          NaN  NaN   \n",
       "1  2023-03-01 05:22:48  1650.407264          NaN          NaN  NaN   \n",
       "2  2023-03-01 05:22:49  1650.407264          NaN          NaN  NaN   \n",
       "3  2023-03-01 05:22:50  1650.407264          NaN          NaN  NaN   \n",
       "4  2023-03-01 05:22:51  1650.407264          NaN          NaN  NaN   \n",
       "5  2023-03-01 05:22:52  1650.407264          NaN          NaN  NaN   \n",
       "6  2023-03-01 05:22:53  1650.407264          NaN  1651.967148  NaN   \n",
       "7  2023-03-01 05:22:54  1650.407264          NaN  1651.967148  NaN   \n",
       "8  2023-03-01 05:22:55  1650.407264          NaN  1651.967148  NaN   \n",
       "9  2023-03-01 05:22:56  1650.407264          NaN  1651.967148  NaN   \n",
       "10 2023-03-01 05:22:57  1650.407264          NaN  1651.967148  NaN   \n",
       "11 2023-03-01 05:22:58  1650.407264          NaN  1651.967148  NaN   \n",
       "12 2023-03-01 05:22:59  1650.407264          NaN  1651.967148  NaN   \n",
       "13 2023-03-01 05:23:00  1650.407264          NaN  1651.967148  NaN   \n",
       "14 2023-03-01 05:23:01  1650.407264          NaN  1651.967148  NaN   \n",
       "15 2023-03-01 05:23:02  1650.407264          NaN  1651.967148  NaN   \n",
       "16 2023-03-01 05:23:03  1650.407264          NaN  1650.314240  NaN   \n",
       "17 2023-03-01 05:23:04  1650.407264  1649.766413  1650.314240  NaN   \n",
       "18 2023-03-01 05:23:05  1650.407264  1649.766413  1650.314240  NaN   \n",
       "19 2023-03-01 05:23:06  1650.407264  1649.766413  1650.314240  NaN   \n",
       "20 2023-03-01 05:23:07  1650.407264  1649.766413  1650.209123  NaN   \n",
       "21 2023-03-01 05:23:08  1650.407264  1649.898750  1650.209123  NaN   \n",
       "22 2023-03-01 05:23:09  1650.407264  1649.898750  1650.209123  NaN   \n",
       "23 2023-03-01 05:23:10  1650.407264  1649.898750  1650.209123  NaN   \n",
       "24 2023-03-01 05:23:11  1650.407264  1649.898750  1650.209123  NaN   \n",
       "\n",
       "       arbitrum     ethereum     optimism  \n",
       "0           NaN  1650.803389          NaN  \n",
       "1           NaN  1650.803389          NaN  \n",
       "2           NaN  1650.803389          NaN  \n",
       "3           NaN  1650.803389          NaN  \n",
       "4           NaN  1650.803389          NaN  \n",
       "5           NaN  1650.803389          NaN  \n",
       "6   1650.155954  1650.803389          NaN  \n",
       "7   1650.155954  1650.803389          NaN  \n",
       "8   1650.155954  1650.803389          NaN  \n",
       "9   1650.155954  1650.803389          NaN  \n",
       "10  1650.155954  1650.803389  1650.007191  \n",
       "11  1650.155954  1650.803389  1650.007191  \n",
       "12  1650.155954  1650.803389  1650.007191  \n",
       "13  1650.155954  1650.803389  1650.007191  \n",
       "14  1650.022765  1650.803389  1650.007191  \n",
       "15  1650.022765  1650.803389  1650.007191  \n",
       "16  1649.943417  1650.803389  1650.007191  \n",
       "17  1649.943417  1650.803389  1650.007191  \n",
       "18  1649.943417  1650.803389  1650.007191  \n",
       "19  1649.943417  1650.803389  1650.007191  \n",
       "20  1649.943417  1650.803389  1650.007191  \n",
       "21  1649.943417  1650.803389  1650.007191  \n",
       "22  1649.943417  1650.803389  1650.007191  \n",
       "23  1649.943417  1650.803389  1650.007191  \n",
       "24  1650.546566  1649.948653  1650.007191  "
      ]
     },
     "execution_count": 44,
     "metadata": {},
     "output_type": "execute_result"
    }
   ],
   "source": [
    "pivot_df_pandas.head(25)"
   ]
  },
  {
   "cell_type": "code",
   "execution_count": 45,
   "metadata": {},
   "outputs": [],
   "source": [
    "# copy pivot df\n",
    "price_deviation_df = pivot_df_pandas.copy(deep=True)"
   ]
  },
  {
   "cell_type": "code",
   "execution_count": 46,
   "metadata": {},
   "outputs": [],
   "source": [
    "# add columns for price deviation\n",
    "price_deviation_df['arbitrum'] = (price_deviation_df['arbitrum'] - price_deviation_df['chainlink']) / 100\n",
    "price_deviation_df['bsc'] = (price_deviation_df['bsc'] - price_deviation_df['chainlink']) / 100\n",
    "price_deviation_df['ethereum'] = (price_deviation_df['ethereum'] - price_deviation_df['chainlink']) / 100\n",
    "price_deviation_df['optimism'] = (price_deviation_df['optimism'] - price_deviation_df['chainlink']) / 100\n",
    "price_deviation_df['polygon'] = (price_deviation_df['polygon'] - price_deviation_df['chainlink']) / 100\n",
    "price_deviation_df['pythnet'] = (price_deviation_df['pythnet'] - price_deviation_df['chainlink']) / 100"
   ]
  },
  {
   "cell_type": "code",
   "execution_count": 48,
   "metadata": {},
   "outputs": [],
   "source": [
    "import matplotlib.pyplot as plt\n",
    "import matplotlib.ticker as ticker\n",
    "\n",
    "import thanefield_charting as tc"
   ]
  },
  {
   "cell_type": "code",
   "execution_count": 49,
   "metadata": {},
   "outputs": [],
   "source": [
    "def format_y_ticks(value, pos):\n",
    "    if value >= 1e9:\n",
    "        return f'{value / 1e9:.1f}B'\n",
    "    elif value >= 1e6:\n",
    "        return f'{value / 1e6:.1f}M'\n",
    "    elif value >= 1e3:\n",
    "        return f'{value / 1e3:.1f}K'\n",
    "    else:\n",
    "        return f'{value:.0f}'"
   ]
  },
  {
   "cell_type": "code",
   "execution_count": 51,
   "metadata": {},
   "outputs": [
    {
     "data": {
      "image/png": "[encoded data removed]",
      "text/plain": [
       "<Figure size 800x800 with 6 Axes>"
      ]
     },
     "metadata": {},
     "output_type": "display_data"
    }
   ],
   "source": [
    "# Create a figure and an array of subplots\n",
    "fig, axs = plt.subplots(3, 2, figsize=(8, 8))\n",
    "\n",
    "# Define the data and labels for each histogram\n",
    "data = {\n",
    "    'ethereum': price_deviation_df['ethereum'],\n",
    "    'arbitrum': price_deviation_df['arbitrum'],\n",
    "    'polygon': price_deviation_df['polygon'],\n",
    "    'optimism': price_deviation_df['optimism'],\n",
    "    'bsc': price_deviation_df['bsc'],\n",
    "    'pythnet': price_deviation_df['pythnet']\n",
    "}\n",
    "\n",
    "labels = ['ethereum', 'arbitrum', 'bsc', 'optimism', 'polygon', 'pythnet']\n",
    "colors = ['darkblue', 'lightblue', 'darkkhaki', 'darkred', 'darkviolet', 'orchid']\n",
    "\n",
    "\n",
    "# Iterate over the subplots and create histograms\n",
    "for i, ax in enumerate(axs.flat):\n",
    "    if i < len(labels):\n",
    "        ax.hist(data[labels[i]], bins=250, color=colors[i].format(i))\n",
    "        ax.set_title(labels[i])\n",
    "\n",
    "        # Set common x and y axis limits\n",
    "        ax.set_xlim(-0.2, 0.2)\n",
    "        \n",
    "        # set y axis formatter\n",
    "        ax.yaxis.set_major_formatter(ticker.FuncFormatter(format_y_ticks))\n",
    "\n",
    "    # no empty subplots to remove\n",
    "    # else:\n",
    "    #     fig.delaxes(ax)\n",
    "\n",
    "# Adjust the spacing between subplots\n",
    "plt.tight_layout()\n",
    "\n",
    "# Add a main title\n",
    "fig.suptitle('ETH Price Deviation from Chainlink (March - June)', fontsize=16, fontweight='bold', y=1.03)\n",
    "\n",
    "# Show the plot\n",
    "plt.show()\n",
    "\n",
    "# save picture\n",
    "fig.savefig('charts/eth_price_deviation.png', dpi=300, bbox_inches='tight')"
   ]
  },
  {
   "cell_type": "code",
   "execution_count": null,
   "metadata": {},
   "outputs": [],
   "source": []
  },
  {
   "cell_type": "code",
   "execution_count": null,
   "metadata": {},
   "outputs": [],
   "source": []
  }
 ],
 "metadata": {
  "kernelspec": {
   "display_name": ".venv",
   "language": "python",
   "name": "python3"
  },
  "language_info": {
   "codemirror_mode": {
    "name": "ipython",
    "version": 3
   },
   "file_extension": ".py",
   "mimetype": "text/x-python",
   "name": "python",
   "nbconvert_exporter": "python",
   "pygments_lexer": "ipython3",
   "version": "3.10.6"
  },
  "orig_nbformat": 4
 },
 "nbformat": 4,
 "nbformat_minor": 2
}
